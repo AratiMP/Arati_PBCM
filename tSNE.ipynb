{
 "cells": [
  {
   "cell_type": "markdown",
   "metadata": {},
   "source": [
    "# tSNE"
   ]
  },
  {
   "cell_type": "markdown",
   "metadata": {},
   "source": [
    "### Installs"
   ]
  },
  {
   "cell_type": "code",
   "execution_count": null,
   "metadata": {},
   "outputs": [],
   "source": [
    "#pip install plotly.express "
   ]
  },
  {
   "cell_type": "code",
   "execution_count": 3,
   "metadata": {},
   "outputs": [],
   "source": [
    "#pip install --upgrade nbformat"
   ]
  },
  {
   "cell_type": "code",
   "execution_count": 4,
   "metadata": {},
   "outputs": [],
   "source": [
    "#pip install ipykernel"
   ]
  },
  {
   "cell_type": "code",
   "execution_count": 5,
   "metadata": {},
   "outputs": [],
   "source": [
    "#pip install --upgrade pip"
   ]
  },
  {
   "cell_type": "markdown",
   "metadata": {},
   "source": [
    "### Imports"
   ]
  },
  {
   "cell_type": "code",
   "execution_count": null,
   "metadata": {},
   "outputs": [],
   "source": [
    "import pandas as pd\n",
    "import os\n",
    "import numpy as np\n",
    "import matplotlib.pyplot as plt\n",
    "from sklearn.preprocessing import StandardScaler\n",
    "from sklearn.decomposition import PCA\n",
    "from sklearn.manifold import TSNE\n",
    "import numpy as np\n",
    "import plotly.express as px\n",
    "import seaborn as sns\n",
    "#import re"
   ]
  },
  {
   "cell_type": "markdown",
   "metadata": {},
   "source": [
    "## Data Load and Preprocessing"
   ]
  },
  {
   "cell_type": "markdown",
   "metadata": {},
   "source": [
    "#### Clinical dataset"
   ]
  },
  {
   "cell_type": "code",
   "execution_count": 7,
   "metadata": {},
   "outputs": [
    {
     "data": {
      "text/html": [
       "<div>\n",
       "<style scoped>\n",
       "    .dataframe tbody tr th:only-of-type {\n",
       "        vertical-align: middle;\n",
       "    }\n",
       "\n",
       "    .dataframe tbody tr th {\n",
       "        vertical-align: top;\n",
       "    }\n",
       "\n",
       "    .dataframe thead th {\n",
       "        text-align: right;\n",
       "    }\n",
       "</style>\n",
       "<table border=\"1\" class=\"dataframe\">\n",
       "  <thead>\n",
       "    <tr style=\"text-align: right;\">\n",
       "      <th></th>\n",
       "      <th>sampleId</th>\n",
       "      <th>patientId</th>\n",
       "      <th>studyId</th>\n",
       "      <th>CANCER_TYPE</th>\n",
       "      <th>CANCER_TYPE_DETAILED</th>\n",
       "      <th>CN_CLUSTER</th>\n",
       "      <th>CONVERTED_STAGE</th>\n",
       "      <th>ER_STATUS</th>\n",
       "      <th>FRACTION_GENOME_ALTERED</th>\n",
       "      <th>HER2_STATUS</th>\n",
       "      <th>...</th>\n",
       "      <th>SURVIVAL_DATA_FORM</th>\n",
       "      <th>TMB_NONSYNONYMOUS</th>\n",
       "      <th>TUMOR_STAGE</th>\n",
       "      <th>TUMOR_T1_CODED</th>\n",
       "      <th>AGE</th>\n",
       "      <th>METASTASIS</th>\n",
       "      <th>OS_MONTHS</th>\n",
       "      <th>OS_STATUS</th>\n",
       "      <th>SAMPLE_COUNT</th>\n",
       "      <th>SEX</th>\n",
       "    </tr>\n",
       "  </thead>\n",
       "  <tbody>\n",
       "    <tr>\n",
       "      <th>0</th>\n",
       "      <td>TCGA-A2-A0T2-01</td>\n",
       "      <td>TCGA-A2-A0T2</td>\n",
       "      <td>brca_tcga_pub</td>\n",
       "      <td>Breast Cancer</td>\n",
       "      <td>Invasive Breast Carcinoma</td>\n",
       "      <td>3</td>\n",
       "      <td>No_Conversion</td>\n",
       "      <td>Negative</td>\n",
       "      <td>0.9463</td>\n",
       "      <td>Negative</td>\n",
       "      <td>...</td>\n",
       "      <td>followup</td>\n",
       "      <td>0.766667</td>\n",
       "      <td>T3</td>\n",
       "      <td>T_Other</td>\n",
       "      <td>66</td>\n",
       "      <td>M1</td>\n",
       "      <td>7.89</td>\n",
       "      <td>1:DECEASED</td>\n",
       "      <td>1</td>\n",
       "      <td>Female</td>\n",
       "    </tr>\n",
       "    <tr>\n",
       "      <th>1</th>\n",
       "      <td>TCGA-A2-A04P-01</td>\n",
       "      <td>TCGA-A2-A04P</td>\n",
       "      <td>brca_tcga_pub</td>\n",
       "      <td>Breast Cancer</td>\n",
       "      <td>Invasive Breast Carcinoma</td>\n",
       "      <td>1</td>\n",
       "      <td>No_Conversion</td>\n",
       "      <td>Negative</td>\n",
       "      <td>0.6407</td>\n",
       "      <td>Negative</td>\n",
       "      <td>...</td>\n",
       "      <td>followup</td>\n",
       "      <td>3.400000</td>\n",
       "      <td>T2</td>\n",
       "      <td>T_Other</td>\n",
       "      <td>36</td>\n",
       "      <td>M0</td>\n",
       "      <td>17.97</td>\n",
       "      <td>1:DECEASED</td>\n",
       "      <td>1</td>\n",
       "      <td>Female</td>\n",
       "    </tr>\n",
       "    <tr>\n",
       "      <th>2</th>\n",
       "      <td>TCGA-A1-A0SK-01</td>\n",
       "      <td>TCGA-A1-A0SK</td>\n",
       "      <td>brca_tcga_pub</td>\n",
       "      <td>Breast Cancer</td>\n",
       "      <td>Invasive Breast Carcinoma</td>\n",
       "      <td>1</td>\n",
       "      <td>Stage IIA</td>\n",
       "      <td>Negative</td>\n",
       "      <td>0.4163</td>\n",
       "      <td>Negative</td>\n",
       "      <td>...</td>\n",
       "      <td>followup</td>\n",
       "      <td>1.600000</td>\n",
       "      <td>T2</td>\n",
       "      <td>T_Other</td>\n",
       "      <td>54</td>\n",
       "      <td>M0</td>\n",
       "      <td>31.77</td>\n",
       "      <td>1:DECEASED</td>\n",
       "      <td>1</td>\n",
       "      <td>Female</td>\n",
       "    </tr>\n",
       "  </tbody>\n",
       "</table>\n",
       "<p>3 rows × 37 columns</p>\n",
       "</div>"
      ],
      "text/plain": [
       "          sampleId     patientId        studyId    CANCER_TYPE  \\\n",
       "0  TCGA-A2-A0T2-01  TCGA-A2-A0T2  brca_tcga_pub  Breast Cancer   \n",
       "1  TCGA-A2-A04P-01  TCGA-A2-A04P  brca_tcga_pub  Breast Cancer   \n",
       "2  TCGA-A1-A0SK-01  TCGA-A1-A0SK  brca_tcga_pub  Breast Cancer   \n",
       "\n",
       "        CANCER_TYPE_DETAILED  CN_CLUSTER CONVERTED_STAGE ER_STATUS  \\\n",
       "0  Invasive Breast Carcinoma           3   No_Conversion  Negative   \n",
       "1  Invasive Breast Carcinoma           1   No_Conversion  Negative   \n",
       "2  Invasive Breast Carcinoma           1       Stage IIA  Negative   \n",
       "\n",
       "   FRACTION_GENOME_ALTERED HER2_STATUS  ...  SURVIVAL_DATA_FORM  \\\n",
       "0                   0.9463    Negative  ...            followup   \n",
       "1                   0.6407    Negative  ...            followup   \n",
       "2                   0.4163    Negative  ...            followup   \n",
       "\n",
       "   TMB_NONSYNONYMOUS  TUMOR_STAGE TUMOR_T1_CODED  AGE  METASTASIS  OS_MONTHS  \\\n",
       "0           0.766667           T3        T_Other   66          M1       7.89   \n",
       "1           3.400000           T2        T_Other   36          M0      17.97   \n",
       "2           1.600000           T2        T_Other   54          M0      31.77   \n",
       "\n",
       "    OS_STATUS SAMPLE_COUNT     SEX  \n",
       "0  1:DECEASED            1  Female  \n",
       "1  1:DECEASED            1  Female  \n",
       "2  1:DECEASED            1  Female  \n",
       "\n",
       "[3 rows x 37 columns]"
      ]
     },
     "execution_count": 7,
     "metadata": {},
     "output_type": "execute_result"
    }
   ],
   "source": [
    "data_clinical = pd.read_csv(\"C:\\\\Users\\\\USER~\\\\OneDrive - FCT NOVA\\\\PBCM\\\\Data_TGCA\\\\BRCA_clinicalData.txt\", sep=\"\\t\")\n",
    "#data_clinical = pd.read_csv(\"C:\\\\Users\\\\arati\\\\OneDrive - FCT NOVA\\\\PBCM\\\\Data_TGCA\\\\BRCA_clinicalData.txt\", sep=\"\\t\")\n",
    "\n",
    "data_clinical.head(3)"
   ]
  },
  {
   "cell_type": "code",
   "execution_count": 8,
   "metadata": {},
   "outputs": [],
   "source": [
    "#data_clinical['sampleId'] = data_clinical['sampleId'].map(lambda i : re.sub('-', '.', i))\n",
    "#data_clinical.head(3)"
   ]
  },
  {
   "cell_type": "code",
   "execution_count": 9,
   "metadata": {},
   "outputs": [],
   "source": [
    "mask_normal_like_exclusion = data_clinical[\"PAM50_SUBTYPE\"]  != \"Normal-like\""
   ]
  },
  {
   "cell_type": "code",
   "execution_count": 10,
   "metadata": {},
   "outputs": [
    {
     "data": {
      "text/html": [
       "<div>\n",
       "<style scoped>\n",
       "    .dataframe tbody tr th:only-of-type {\n",
       "        vertical-align: middle;\n",
       "    }\n",
       "\n",
       "    .dataframe tbody tr th {\n",
       "        vertical-align: top;\n",
       "    }\n",
       "\n",
       "    .dataframe thead th {\n",
       "        text-align: right;\n",
       "    }\n",
       "</style>\n",
       "<table border=\"1\" class=\"dataframe\">\n",
       "  <thead>\n",
       "    <tr style=\"text-align: right;\">\n",
       "      <th></th>\n",
       "      <th>sampleId</th>\n",
       "      <th>patientId</th>\n",
       "      <th>studyId</th>\n",
       "      <th>CANCER_TYPE</th>\n",
       "      <th>CANCER_TYPE_DETAILED</th>\n",
       "      <th>CN_CLUSTER</th>\n",
       "      <th>CONVERTED_STAGE</th>\n",
       "      <th>ER_STATUS</th>\n",
       "      <th>FRACTION_GENOME_ALTERED</th>\n",
       "      <th>HER2_STATUS</th>\n",
       "      <th>...</th>\n",
       "      <th>SURVIVAL_DATA_FORM</th>\n",
       "      <th>TMB_NONSYNONYMOUS</th>\n",
       "      <th>TUMOR_STAGE</th>\n",
       "      <th>TUMOR_T1_CODED</th>\n",
       "      <th>AGE</th>\n",
       "      <th>METASTASIS</th>\n",
       "      <th>OS_MONTHS</th>\n",
       "      <th>OS_STATUS</th>\n",
       "      <th>SAMPLE_COUNT</th>\n",
       "      <th>SEX</th>\n",
       "    </tr>\n",
       "  </thead>\n",
       "  <tbody>\n",
       "    <tr>\n",
       "      <th>0</th>\n",
       "      <td>TCGA-A2-A0T2-01</td>\n",
       "      <td>TCGA-A2-A0T2</td>\n",
       "      <td>brca_tcga_pub</td>\n",
       "      <td>Breast Cancer</td>\n",
       "      <td>Invasive Breast Carcinoma</td>\n",
       "      <td>3</td>\n",
       "      <td>No_Conversion</td>\n",
       "      <td>Negative</td>\n",
       "      <td>0.9463</td>\n",
       "      <td>Negative</td>\n",
       "      <td>...</td>\n",
       "      <td>followup</td>\n",
       "      <td>0.766667</td>\n",
       "      <td>T3</td>\n",
       "      <td>T_Other</td>\n",
       "      <td>66</td>\n",
       "      <td>M1</td>\n",
       "      <td>7.89</td>\n",
       "      <td>1:DECEASED</td>\n",
       "      <td>1</td>\n",
       "      <td>Female</td>\n",
       "    </tr>\n",
       "    <tr>\n",
       "      <th>1</th>\n",
       "      <td>TCGA-A2-A04P-01</td>\n",
       "      <td>TCGA-A2-A04P</td>\n",
       "      <td>brca_tcga_pub</td>\n",
       "      <td>Breast Cancer</td>\n",
       "      <td>Invasive Breast Carcinoma</td>\n",
       "      <td>1</td>\n",
       "      <td>No_Conversion</td>\n",
       "      <td>Negative</td>\n",
       "      <td>0.6407</td>\n",
       "      <td>Negative</td>\n",
       "      <td>...</td>\n",
       "      <td>followup</td>\n",
       "      <td>3.400000</td>\n",
       "      <td>T2</td>\n",
       "      <td>T_Other</td>\n",
       "      <td>36</td>\n",
       "      <td>M0</td>\n",
       "      <td>17.97</td>\n",
       "      <td>1:DECEASED</td>\n",
       "      <td>1</td>\n",
       "      <td>Female</td>\n",
       "    </tr>\n",
       "    <tr>\n",
       "      <th>2</th>\n",
       "      <td>TCGA-A1-A0SK-01</td>\n",
       "      <td>TCGA-A1-A0SK</td>\n",
       "      <td>brca_tcga_pub</td>\n",
       "      <td>Breast Cancer</td>\n",
       "      <td>Invasive Breast Carcinoma</td>\n",
       "      <td>1</td>\n",
       "      <td>Stage IIA</td>\n",
       "      <td>Negative</td>\n",
       "      <td>0.4163</td>\n",
       "      <td>Negative</td>\n",
       "      <td>...</td>\n",
       "      <td>followup</td>\n",
       "      <td>1.600000</td>\n",
       "      <td>T2</td>\n",
       "      <td>T_Other</td>\n",
       "      <td>54</td>\n",
       "      <td>M0</td>\n",
       "      <td>31.77</td>\n",
       "      <td>1:DECEASED</td>\n",
       "      <td>1</td>\n",
       "      <td>Female</td>\n",
       "    </tr>\n",
       "  </tbody>\n",
       "</table>\n",
       "<p>3 rows × 37 columns</p>\n",
       "</div>"
      ],
      "text/plain": [
       "          sampleId     patientId        studyId    CANCER_TYPE  \\\n",
       "0  TCGA-A2-A0T2-01  TCGA-A2-A0T2  brca_tcga_pub  Breast Cancer   \n",
       "1  TCGA-A2-A04P-01  TCGA-A2-A04P  brca_tcga_pub  Breast Cancer   \n",
       "2  TCGA-A1-A0SK-01  TCGA-A1-A0SK  brca_tcga_pub  Breast Cancer   \n",
       "\n",
       "        CANCER_TYPE_DETAILED  CN_CLUSTER CONVERTED_STAGE ER_STATUS  \\\n",
       "0  Invasive Breast Carcinoma           3   No_Conversion  Negative   \n",
       "1  Invasive Breast Carcinoma           1   No_Conversion  Negative   \n",
       "2  Invasive Breast Carcinoma           1       Stage IIA  Negative   \n",
       "\n",
       "   FRACTION_GENOME_ALTERED HER2_STATUS  ...  SURVIVAL_DATA_FORM  \\\n",
       "0                   0.9463    Negative  ...            followup   \n",
       "1                   0.6407    Negative  ...            followup   \n",
       "2                   0.4163    Negative  ...            followup   \n",
       "\n",
       "   TMB_NONSYNONYMOUS  TUMOR_STAGE TUMOR_T1_CODED  AGE  METASTASIS  OS_MONTHS  \\\n",
       "0           0.766667           T3        T_Other   66          M1       7.89   \n",
       "1           3.400000           T2        T_Other   36          M0      17.97   \n",
       "2           1.600000           T2        T_Other   54          M0      31.77   \n",
       "\n",
       "    OS_STATUS SAMPLE_COUNT     SEX  \n",
       "0  1:DECEASED            1  Female  \n",
       "1  1:DECEASED            1  Female  \n",
       "2  1:DECEASED            1  Female  \n",
       "\n",
       "[3 rows x 37 columns]"
      ]
     },
     "execution_count": 10,
     "metadata": {},
     "output_type": "execute_result"
    }
   ],
   "source": [
    "data_clinical = data_clinical.loc[mask_normal_like_exclusion]\n",
    "data_clinical.head(3)"
   ]
  },
  {
   "cell_type": "code",
   "execution_count": 11,
   "metadata": {},
   "outputs": [
    {
     "data": {
      "text/plain": [
       "(455, 37)"
      ]
     },
     "execution_count": 11,
     "metadata": {},
     "output_type": "execute_result"
    }
   ],
   "source": [
    "data_clinical.shape"
   ]
  },
  {
   "cell_type": "code",
   "execution_count": 12,
   "metadata": {},
   "outputs": [
    {
     "data": {
      "text/plain": [
       "['TCGA-A2-A0T2-01',\n",
       " 'TCGA-A2-A04P-01',\n",
       " 'TCGA-A1-A0SK-01',\n",
       " 'TCGA-A2-A0CM-01',\n",
       " 'TCGA-AR-A1AR-01',\n",
       " 'TCGA-B6-A0WX-01',\n",
       " 'TCGA-BH-A1F0-01',\n",
       " 'TCGA-BH-A18V-01',\n",
       " 'TCGA-BH-A18Q-01',\n",
       " 'TCGA-BH-A18K-01',\n",
       " 'TCGA-BH-A0E0-01',\n",
       " 'TCGA-BH-A0RX-01',\n",
       " 'TCGA-A7-A13D-01',\n",
       " 'TCGA-BH-A0E6-01',\n",
       " 'TCGA-AO-A0J4-01',\n",
       " 'TCGA-A7-A0CE-01',\n",
       " 'TCGA-A7-A0DA-01',\n",
       " 'TCGA-D8-A142-01',\n",
       " 'TCGA-AQ-A04J-01',\n",
       " 'TCGA-A2-A0T0-01',\n",
       " 'TCGA-A2-A0D0-01',\n",
       " 'TCGA-AO-A0J6-01',\n",
       " 'TCGA-A2-A0YM-01',\n",
       " 'TCGA-A2-A0D2-01',\n",
       " 'TCGA-BH-A0B3-01',\n",
       " 'TCGA-A2-A04Q-01',\n",
       " 'TCGA-A2-A0SX-01',\n",
       " 'TCGA-AO-A0JL-01',\n",
       " 'TCGA-AO-A12F-01',\n",
       " 'TCGA-BH-A0B9-01',\n",
       " 'TCGA-B6-A0RT-01',\n",
       " 'TCGA-AO-A129-01',\n",
       " 'TCGA-AO-A124-01',\n",
       " 'TCGA-B6-A0RU-01',\n",
       " 'TCGA-B6-A0IQ-01',\n",
       " 'TCGA-B6-A0I2-01',\n",
       " 'TCGA-B6-A0IJ-01',\n",
       " 'TCGA-B6-A0RE-01',\n",
       " 'TCGA-A2-A0ST-01',\n",
       " 'TCGA-AR-A0TP-01',\n",
       " 'TCGA-A1-A0SO-01',\n",
       " 'TCGA-A8-A07C-01',\n",
       " 'TCGA-A8-A07O-01',\n",
       " 'TCGA-A8-A07R-01',\n",
       " 'TCGA-A8-A07U-01',\n",
       " 'TCGA-A8-A08H-01',\n",
       " 'TCGA-A8-A08R-01',\n",
       " 'TCGA-AN-A04D-01',\n",
       " 'TCGA-AN-A0AL-01',\n",
       " 'TCGA-AN-A0AR-01',\n",
       " 'TCGA-AN-A0FJ-01',\n",
       " 'TCGA-AN-A0FL-01',\n",
       " 'TCGA-AN-A0FX-01',\n",
       " 'TCGA-AN-A0XU-01',\n",
       " 'TCGA-AR-A0TS-01',\n",
       " 'TCGA-AR-A0U1-01',\n",
       " 'TCGA-AR-A0U4-01',\n",
       " 'TCGA-AR-A1AH-01',\n",
       " 'TCGA-AR-A1AI-01',\n",
       " 'TCGA-AR-A1AJ-01',\n",
       " 'TCGA-AR-A1AQ-01',\n",
       " 'TCGA-AR-A1AY-01',\n",
       " 'TCGA-BH-A0AV-01',\n",
       " 'TCGA-BH-A0BG-01',\n",
       " 'TCGA-BH-A0BL-01',\n",
       " 'TCGA-BH-A0BW-01',\n",
       " 'TCGA-BH-A0DL-01',\n",
       " 'TCGA-BH-A0WA-01',\n",
       " 'TCGA-C8-A12K-01',\n",
       " 'TCGA-C8-A12V-01',\n",
       " 'TCGA-C8-A131-01',\n",
       " 'TCGA-C8-A134-01',\n",
       " 'TCGA-D8-A147-01',\n",
       " 'TCGA-E2-A14N-01',\n",
       " 'TCGA-E2-A14R-01',\n",
       " 'TCGA-E2-A14X-01',\n",
       " 'TCGA-E2-A14Y-01',\n",
       " 'TCGA-E2-A150-01',\n",
       " 'TCGA-E2-A158-01',\n",
       " 'TCGA-E2-A159-01',\n",
       " 'TCGA-E2-A1B5-01',\n",
       " 'TCGA-A8-A08L-01',\n",
       " 'TCGA-BH-A1EV-01',\n",
       " 'TCGA-B6-A0I9-01',\n",
       " 'TCGA-A8-A09X-01',\n",
       " 'TCGA-B6-A0IK-01',\n",
       " 'TCGA-BH-A18P-01',\n",
       " 'TCGA-A8-A08J-01',\n",
       " 'TCGA-BH-A18R-01',\n",
       " 'TCGA-B6-A0RS-01',\n",
       " 'TCGA-BH-A0DZ-01',\n",
       " 'TCGA-A2-A0T1-01',\n",
       " 'TCGA-AO-A0J2-01',\n",
       " 'TCGA-BH-A0AW-01',\n",
       " 'TCGA-BH-A0EE-01',\n",
       " 'TCGA-A2-A0D1-01',\n",
       " 'TCGA-AO-A03N-01',\n",
       " 'TCGA-A2-A04X-01',\n",
       " 'TCGA-A2-A04W-01',\n",
       " 'TCGA-AO-A12D-01',\n",
       " 'TCGA-A2-A0CL-01',\n",
       " 'TCGA-AO-A0JE-01',\n",
       " 'TCGA-A2-A0EQ-01',\n",
       " 'TCGA-AO-A03L-01',\n",
       " 'TCGA-B6-A0RH-01',\n",
       " 'TCGA-A8-A075-01',\n",
       " 'TCGA-A8-A076-01',\n",
       " 'TCGA-A8-A07B-01',\n",
       " 'TCGA-A8-A07I-01',\n",
       " 'TCGA-A8-A081-01',\n",
       " 'TCGA-A8-A08B-01',\n",
       " 'TCGA-A8-A08X-01',\n",
       " 'TCGA-A8-A092-01',\n",
       " 'TCGA-A8-A094-01',\n",
       " 'TCGA-A8-A09G-01',\n",
       " 'TCGA-A8-A0A7-01',\n",
       " 'TCGA-AN-A04C-01',\n",
       " 'TCGA-AN-A0FV-01',\n",
       " 'TCGA-AR-A0TX-01',\n",
       " 'TCGA-BH-A0B7-01',\n",
       " 'TCGA-C8-A12L-01',\n",
       " 'TCGA-C8-A12P-01',\n",
       " 'TCGA-C8-A12Q-01',\n",
       " 'TCGA-C8-A12T-01',\n",
       " 'TCGA-C8-A12Z-01',\n",
       " 'TCGA-C8-A130-01',\n",
       " 'TCGA-C8-A135-01',\n",
       " 'TCGA-C8-A138-01',\n",
       " 'TCGA-C8-A1HF-01',\n",
       " 'TCGA-D8-A13Z-01',\n",
       " 'TCGA-E2-A14P-01',\n",
       " 'TCGA-E2-A14V-01',\n",
       " 'TCGA-E2-A152-01',\n",
       " 'TCGA-E2-A1B0-01',\n",
       " 'TCGA-A2-A0CU-01',\n",
       " 'TCGA-AR-A0TR-01',\n",
       " 'TCGA-BH-A18T-01',\n",
       " 'TCGA-B6-A0X4-01',\n",
       " 'TCGA-BH-A0EA-01',\n",
       " 'TCGA-BH-A18N-01',\n",
       " 'TCGA-BH-A1EU-01',\n",
       " 'TCGA-B6-A0X7-01',\n",
       " 'TCGA-A2-A04V-01',\n",
       " 'TCGA-BH-A18S-01',\n",
       " 'TCGA-BH-A18M-01',\n",
       " 'TCGA-B6-A0RM-01',\n",
       " 'TCGA-BH-A1ET-01',\n",
       " 'TCGA-B6-A0IN-01',\n",
       " 'TCGA-BH-A1EO-01',\n",
       " 'TCGA-B6-A0WS-01',\n",
       " 'TCGA-B6-A0RP-01',\n",
       " 'TCGA-B6-A0IH-01',\n",
       " 'TCGA-B6-A0WY-01',\n",
       " 'TCGA-BH-A1ES-01',\n",
       " 'TCGA-B6-A0X0-01',\n",
       " 'TCGA-B6-A0RQ-01',\n",
       " 'TCGA-BH-A0HO-01',\n",
       " 'TCGA-BH-A0DS-01',\n",
       " 'TCGA-BH-A0DQ-01',\n",
       " 'TCGA-BH-A0HK-01',\n",
       " 'TCGA-A7-A0CG-01',\n",
       " 'TCGA-A7-A0CH-01',\n",
       " 'TCGA-A7-A0DB-01',\n",
       " 'TCGA-A7-A0D9-01',\n",
       " 'TCGA-AO-A0J8-01',\n",
       " 'TCGA-BH-A0GZ-01',\n",
       " 'TCGA-AO-A0JA-01',\n",
       " 'TCGA-AO-A0JF-01',\n",
       " 'TCGA-A7-A0CD-01',\n",
       " 'TCGA-D8-A145-01',\n",
       " 'TCGA-BH-A0HP-01',\n",
       " 'TCGA-BH-A0DK-01',\n",
       " 'TCGA-A2-A0YI-01',\n",
       " 'TCGA-A2-A0YL-01',\n",
       " 'TCGA-AO-A0JG-01',\n",
       " 'TCGA-A2-A0YF-01',\n",
       " 'TCGA-BH-A0DP-01',\n",
       " 'TCGA-BH-A0E1-01',\n",
       " 'TCGA-A2-A0T6-01',\n",
       " 'TCGA-BH-A0HI-01',\n",
       " 'TCGA-A2-A0T7-01',\n",
       " 'TCGA-BH-A0BJ-01',\n",
       " 'TCGA-BH-A0H7-01',\n",
       " 'TCGA-BH-A0H6-01',\n",
       " 'TCGA-A2-A0YD-01',\n",
       " 'TCGA-BH-A0HB-01',\n",
       " 'TCGA-BH-A0HX-01',\n",
       " 'TCGA-AO-A12H-01',\n",
       " 'TCGA-E2-A10E-01',\n",
       " 'TCGA-A2-A0D3-01',\n",
       " 'TCGA-E2-A10F-01',\n",
       " 'TCGA-AO-A03V-01',\n",
       " 'TCGA-A2-A0EW-01',\n",
       " 'TCGA-BH-A0GY-01',\n",
       " 'TCGA-A2-A0EV-01',\n",
       " 'TCGA-BH-A0BC-01',\n",
       " 'TCGA-A2-A0YC-01',\n",
       " 'TCGA-A2-A0EU-01',\n",
       " 'TCGA-A2-A0ET-01',\n",
       " 'TCGA-A2-A04Y-01',\n",
       " 'TCGA-A2-A0ES-01',\n",
       " 'TCGA-BH-A0BA-01',\n",
       " 'TCGA-E2-A10B-01',\n",
       " 'TCGA-BH-A0DH-01',\n",
       " 'TCGA-BH-A0B4-01',\n",
       " 'TCGA-BH-A0H9-01',\n",
       " 'TCGA-AO-A0J9-01',\n",
       " 'TCGA-AO-A12G-01',\n",
       " 'TCGA-A2-A0SY-01',\n",
       " 'TCGA-BH-A0E7-01',\n",
       " 'TCGA-BH-A0BV-01',\n",
       " 'TCGA-A2-A0CZ-01',\n",
       " 'TCGA-A2-A0SU-01',\n",
       " 'TCGA-AO-A12E-01',\n",
       " 'TCGA-A2-A0CV-01',\n",
       " 'TCGA-B6-A0RG-01',\n",
       " 'TCGA-A2-A0CS-01',\n",
       " 'TCGA-A2-A0EO-01',\n",
       " 'TCGA-A2-A0CQ-01',\n",
       " 'TCGA-A2-A0EN-01',\n",
       " 'TCGA-AO-A12A-01',\n",
       " 'TCGA-A2-A0CP-01',\n",
       " 'TCGA-AO-A126-01',\n",
       " 'TCGA-AO-A125-01',\n",
       " 'TCGA-A2-A0EM-01',\n",
       " 'TCGA-A2-A04N-01',\n",
       " 'TCGA-AQ-A04L-01',\n",
       " 'TCGA-B6-A0IO-01',\n",
       " 'TCGA-B6-A0IP-01',\n",
       " 'TCGA-B6-A0WZ-01',\n",
       " 'TCGA-B6-A0I5-01',\n",
       " 'TCGA-B6-A0RV-01',\n",
       " 'TCGA-B6-A0RO-01',\n",
       " 'TCGA-B6-A0RN-01',\n",
       " 'TCGA-B6-A0WT-01',\n",
       " 'TCGA-B6-A0IA-01',\n",
       " 'TCGA-B6-A0RI-01',\n",
       " 'TCGA-A1-A0SE-01',\n",
       " 'TCGA-A2-A0EX-01',\n",
       " 'TCGA-AO-A0JJ-01',\n",
       " 'TCGA-E2-A105-01',\n",
       " 'TCGA-A1-A0SD-01',\n",
       " 'TCGA-A1-A0SH-01',\n",
       " 'TCGA-A1-A0SJ-01',\n",
       " 'TCGA-A8-A06P-01',\n",
       " 'TCGA-A8-A06T-01',\n",
       " 'TCGA-A8-A06Y-01',\n",
       " 'TCGA-A8-A07E-01',\n",
       " 'TCGA-A8-A07F-01',\n",
       " 'TCGA-A8-A07G-01',\n",
       " 'TCGA-A8-A07J-01',\n",
       " 'TCGA-A8-A07P-01',\n",
       " 'TCGA-A8-A083-01',\n",
       " 'TCGA-A8-A086-01',\n",
       " 'TCGA-A8-A08A-01',\n",
       " 'TCGA-A8-A08O-01',\n",
       " 'TCGA-A8-A08T-01',\n",
       " 'TCGA-A8-A08Z-01',\n",
       " 'TCGA-A8-A090-01',\n",
       " 'TCGA-A8-A091-01',\n",
       " 'TCGA-A8-A093-01',\n",
       " 'TCGA-A8-A099-01',\n",
       " 'TCGA-A8-A09A-01',\n",
       " 'TCGA-A8-A09B-01',\n",
       " 'TCGA-A8-A09T-01',\n",
       " 'TCGA-A8-A0A1-01',\n",
       " 'TCGA-A8-A0A2-01',\n",
       " 'TCGA-A8-A0A4-01',\n",
       " 'TCGA-A8-A0AD-01',\n",
       " 'TCGA-AN-A03X-01',\n",
       " 'TCGA-AN-A04A-01',\n",
       " 'TCGA-AN-A0FD-01',\n",
       " 'TCGA-AN-A0FN-01',\n",
       " 'TCGA-AN-A0FS-01',\n",
       " 'TCGA-AN-A0FT-01',\n",
       " 'TCGA-AN-A0FW-01',\n",
       " 'TCGA-AN-A0FZ-01',\n",
       " 'TCGA-AN-A0XL-01',\n",
       " 'TCGA-AN-A0XN-01',\n",
       " 'TCGA-AN-A0XO-01',\n",
       " 'TCGA-AN-A0XP-01',\n",
       " 'TCGA-AN-A0XS-01',\n",
       " 'TCGA-AN-A0XT-01',\n",
       " 'TCGA-AN-A0XV-01',\n",
       " 'TCGA-AR-A1AK-01',\n",
       " 'TCGA-AR-A1AL-01',\n",
       " 'TCGA-AR-A1AN-01',\n",
       " 'TCGA-AR-A1AP-01',\n",
       " 'TCGA-AR-A1AS-01',\n",
       " 'TCGA-AR-A1AU-01',\n",
       " 'TCGA-AR-A1AW-01',\n",
       " 'TCGA-AR-A1AX-01',\n",
       " 'TCGA-BH-A0AZ-01',\n",
       " 'TCGA-BH-A0B0-01',\n",
       " 'TCGA-BH-A0BM-01',\n",
       " 'TCGA-BH-A0BO-01',\n",
       " 'TCGA-BH-A0BP-01',\n",
       " 'TCGA-BH-A0BQ-01',\n",
       " 'TCGA-BH-A0BR-01',\n",
       " 'TCGA-BH-A0BS-01',\n",
       " 'TCGA-BH-A0BT-01',\n",
       " 'TCGA-BH-A0C1-01',\n",
       " 'TCGA-BH-A0DE-01',\n",
       " 'TCGA-BH-A0DG-01',\n",
       " 'TCGA-BH-A0DI-01',\n",
       " 'TCGA-BH-A0DO-01',\n",
       " 'TCGA-BH-A0DT-01',\n",
       " 'TCGA-BH-A0DX-01',\n",
       " 'TCGA-BH-A0E9-01',\n",
       " 'TCGA-BH-A0EI-01',\n",
       " 'TCGA-BH-A0H3-01',\n",
       " 'TCGA-BH-A0H5-01',\n",
       " 'TCGA-BH-A0HA-01',\n",
       " 'TCGA-BH-A0W4-01',\n",
       " 'TCGA-BH-A0W5-01',\n",
       " 'TCGA-BH-A0W7-01',\n",
       " 'TCGA-BH-A18H-01',\n",
       " 'TCGA-BH-A18I-01',\n",
       " 'TCGA-C8-A12N-01',\n",
       " 'TCGA-C8-A12Y-01',\n",
       " 'TCGA-C8-A132-01',\n",
       " 'TCGA-C8-A133-01',\n",
       " 'TCGA-C8-A1HI-01',\n",
       " 'TCGA-D8-A141-01',\n",
       " 'TCGA-E2-A14Q-01',\n",
       " 'TCGA-E2-A14Z-01',\n",
       " 'TCGA-E2-A153-01',\n",
       " 'TCGA-E2-A154-01',\n",
       " 'TCGA-E2-A156-01',\n",
       " 'TCGA-E2-A15C-01',\n",
       " 'TCGA-E2-A15E-01',\n",
       " 'TCGA-E2-A15G-01',\n",
       " 'TCGA-E2-A15H-01',\n",
       " 'TCGA-E2-A15I-01',\n",
       " 'TCGA-E2-A15J-01',\n",
       " 'TCGA-E2-A15O-01',\n",
       " 'TCGA-E2-A15P-01',\n",
       " 'TCGA-E2-A15R-01',\n",
       " 'TCGA-E2-A1B1-01',\n",
       " 'TCGA-E2-A1B4-01',\n",
       " 'TCGA-E2-A1B6-01',\n",
       " 'TCGA-E2-A1BC-01',\n",
       " 'TCGA-E2-A1BD-01',\n",
       " 'TCGA-A2-A0SV-01',\n",
       " 'TCGA-AO-A03O-01',\n",
       " 'TCGA-A2-A0SW-01',\n",
       " 'TCGA-B6-A0WW-01',\n",
       " 'TCGA-BH-A18J-01',\n",
       " 'TCGA-BH-A18L-01',\n",
       " 'TCGA-B6-A0IC-01',\n",
       " 'TCGA-BH-A18U-01',\n",
       " 'TCGA-BH-A1EW-01',\n",
       " 'TCGA-AR-A0TY-01',\n",
       " 'TCGA-B6-A0X5-01',\n",
       " 'TCGA-B6-A0WV-01',\n",
       " 'TCGA-B6-A0RL-01',\n",
       " 'TCGA-AR-A0U2-01',\n",
       " 'TCGA-B6-A0IB-01',\n",
       " 'TCGA-AO-A0J7-01',\n",
       " 'TCGA-AO-A0J3-01',\n",
       " 'TCGA-D8-A13Y-01',\n",
       " 'TCGA-A7-A13F-01',\n",
       " 'TCGA-BH-A0HU-01',\n",
       " 'TCGA-A7-A0CJ-01',\n",
       " 'TCGA-AQ-A04H-01',\n",
       " 'TCGA-BH-A0H0-01',\n",
       " 'TCGA-BH-A0BD-01',\n",
       " 'TCGA-A2-A0T3-01',\n",
       " 'TCGA-A2-A0T4-01',\n",
       " 'TCGA-A2-A0YH-01',\n",
       " 'TCGA-A2-A0YG-01',\n",
       " 'TCGA-A2-A0EY-01',\n",
       " 'TCGA-A2-A0D4-01',\n",
       " 'TCGA-BH-A0AY-01',\n",
       " 'TCGA-E2-A107-01',\n",
       " 'TCGA-AO-A0JI-01',\n",
       " 'TCGA-E2-A10C-01',\n",
       " 'TCGA-E2-A10A-01',\n",
       " 'TCGA-BH-A0C0-01',\n",
       " 'TCGA-E2-A109-01',\n",
       " 'TCGA-AO-A0JC-01',\n",
       " 'TCGA-BH-A0HW-01',\n",
       " 'TCGA-AO-A0JD-01',\n",
       " 'TCGA-AO-A0JM-01',\n",
       " 'TCGA-A2-A0ER-01',\n",
       " 'TCGA-A2-A0CT-01',\n",
       " 'TCGA-AO-A12B-01',\n",
       " 'TCGA-A2-A04R-01',\n",
       " 'TCGA-B6-A0IM-01',\n",
       " 'TCGA-A1-A0SM-01',\n",
       " 'TCGA-A8-A06N-01',\n",
       " 'TCGA-A8-A06O-01',\n",
       " 'TCGA-A8-A06Q-01',\n",
       " 'TCGA-A8-A06Z-01',\n",
       " 'TCGA-A8-A079-01',\n",
       " 'TCGA-A8-A07L-01',\n",
       " 'TCGA-A8-A07W-01',\n",
       " 'TCGA-A8-A07Z-01',\n",
       " 'TCGA-A8-A082-01',\n",
       " 'TCGA-A8-A084-01',\n",
       " 'TCGA-A8-A085-01',\n",
       " 'TCGA-A8-A08G-01',\n",
       " 'TCGA-A8-A08I-01',\n",
       " 'TCGA-A8-A095-01',\n",
       " 'TCGA-A8-A096-01',\n",
       " 'TCGA-A8-A097-01',\n",
       " 'TCGA-A8-A09C-01',\n",
       " 'TCGA-A8-A09D-01',\n",
       " 'TCGA-A8-A09I-01',\n",
       " 'TCGA-A8-A09M-01',\n",
       " 'TCGA-A8-A09N-01',\n",
       " 'TCGA-A8-A09Q-01',\n",
       " 'TCGA-A8-A09R-01',\n",
       " 'TCGA-A8-A0A9-01',\n",
       " 'TCGA-A8-A0AB-01',\n",
       " 'TCGA-AN-A03Y-01',\n",
       " 'TCGA-AN-A041-01',\n",
       " 'TCGA-AN-A049-01',\n",
       " 'TCGA-AN-A0AJ-01',\n",
       " 'TCGA-AN-A0AM-01',\n",
       " 'TCGA-AN-A0AS-01',\n",
       " 'TCGA-AN-A0FF-01',\n",
       " 'TCGA-AN-A0FK-01',\n",
       " 'TCGA-AN-A0FY-01',\n",
       " 'TCGA-AN-A0XR-01',\n",
       " 'TCGA-AN-A0XW-01',\n",
       " 'TCGA-AR-A0TQ-01',\n",
       " 'TCGA-AR-A0TT-01',\n",
       " 'TCGA-AR-A0TV-01',\n",
       " 'TCGA-AR-A0TZ-01',\n",
       " 'TCGA-AR-A0U3-01',\n",
       " 'TCGA-AR-A1AV-01',\n",
       " 'TCGA-BH-A0AU-01',\n",
       " 'TCGA-BH-A0B5-01',\n",
       " 'TCGA-BH-A0BF-01',\n",
       " 'TCGA-BH-A0BZ-01',\n",
       " 'TCGA-BH-A0C3-01',\n",
       " 'TCGA-BH-A0C7-01',\n",
       " 'TCGA-BH-A0DD-01',\n",
       " 'TCGA-BH-A0W3-01',\n",
       " 'TCGA-BH-A18F-01',\n",
       " 'TCGA-C8-A12M-01',\n",
       " 'TCGA-C8-A12U-01',\n",
       " 'TCGA-C8-A12W-01',\n",
       " 'TCGA-C8-A12X-01',\n",
       " 'TCGA-C8-A1HG-01',\n",
       " 'TCGA-C8-A1HL-01',\n",
       " 'TCGA-C8-A1HM-01',\n",
       " 'TCGA-E2-A14O-01',\n",
       " 'TCGA-E2-A14S-01',\n",
       " 'TCGA-E2-A14W-01',\n",
       " 'TCGA-E2-A155-01',\n",
       " 'TCGA-E2-A15A-01',\n",
       " 'TCGA-E2-A15K-01',\n",
       " 'TCGA-E2-A15M-01']"
      ]
     },
     "execution_count": 12,
     "metadata": {},
     "output_type": "execute_result"
    }
   ],
   "source": [
    "samplesId = data_clinical[\"sampleId\"]\n",
    "samples = []\n",
    "for i in samplesId:\n",
    "    samples.append(i)\n",
    "samples"
   ]
  },
  {
   "cell_type": "markdown",
   "metadata": {},
   "source": [
    "#### miRNA Dataset"
   ]
  },
  {
   "cell_type": "code",
   "execution_count": 13,
   "metadata": {},
   "outputs": [
    {
     "data": {
      "text/html": [
       "<div>\n",
       "<style scoped>\n",
       "    .dataframe tbody tr th:only-of-type {\n",
       "        vertical-align: middle;\n",
       "    }\n",
       "\n",
       "    .dataframe tbody tr th {\n",
       "        vertical-align: top;\n",
       "    }\n",
       "\n",
       "    .dataframe thead th {\n",
       "        text-align: right;\n",
       "    }\n",
       "</style>\n",
       "<table border=\"1\" class=\"dataframe\">\n",
       "  <thead>\n",
       "    <tr style=\"text-align: right;\">\n",
       "      <th></th>\n",
       "      <th>entrezGeneId</th>\n",
       "      <th>hugoGeneSymbol</th>\n",
       "      <th>type</th>\n",
       "      <th>TCGA-A1-A0SE-01</th>\n",
       "      <th>TCGA-A1-A0SH-01</th>\n",
       "      <th>TCGA-A1-A0SJ-01</th>\n",
       "      <th>TCGA-A1-A0SK-01</th>\n",
       "      <th>TCGA-A1-A0SM-01</th>\n",
       "      <th>TCGA-A1-A0SO-01</th>\n",
       "      <th>TCGA-A2-A04P-01</th>\n",
       "      <th>...</th>\n",
       "      <th>TCGA-BH-A0HO-01</th>\n",
       "      <th>TCGA-BH-A0HP-01</th>\n",
       "      <th>TCGA-BH-A0HU-01</th>\n",
       "      <th>TCGA-BH-A0HW-01</th>\n",
       "      <th>TCGA-BH-A0HX-01</th>\n",
       "      <th>TCGA-BH-A0RX-01</th>\n",
       "      <th>TCGA-BH-A0W3-01</th>\n",
       "      <th>TCGA-BH-A0W4-01</th>\n",
       "      <th>TCGA-BH-A0W5-01</th>\n",
       "      <th>TCGA-BH-A0WA-01</th>\n",
       "    </tr>\n",
       "  </thead>\n",
       "  <tbody>\n",
       "    <tr>\n",
       "      <th>0</th>\n",
       "      <td>-164</td>\n",
       "      <td>MIR-744/744*</td>\n",
       "      <td>miRNA</td>\n",
       "      <td>3.675192</td>\n",
       "      <td>3.033211</td>\n",
       "      <td>1.678295</td>\n",
       "      <td>3.576166</td>\n",
       "      <td>3.332498</td>\n",
       "      <td>5.097113</td>\n",
       "      <td>2.995839</td>\n",
       "      <td>...</td>\n",
       "      <td>4.297283</td>\n",
       "      <td>1.834118</td>\n",
       "      <td>3.788151</td>\n",
       "      <td>3.769429</td>\n",
       "      <td>2.577506</td>\n",
       "      <td>4.082119</td>\n",
       "      <td>5.226695</td>\n",
       "      <td>3.534248</td>\n",
       "      <td>3.028002</td>\n",
       "      <td>2.915743</td>\n",
       "    </tr>\n",
       "    <tr>\n",
       "      <th>1</th>\n",
       "      <td>-163</td>\n",
       "      <td>MIR-744/744</td>\n",
       "      <td>miRNA</td>\n",
       "      <td>3.675192</td>\n",
       "      <td>3.033211</td>\n",
       "      <td>1.678295</td>\n",
       "      <td>3.576166</td>\n",
       "      <td>3.332498</td>\n",
       "      <td>5.097113</td>\n",
       "      <td>2.995839</td>\n",
       "      <td>...</td>\n",
       "      <td>4.297283</td>\n",
       "      <td>1.834118</td>\n",
       "      <td>3.788151</td>\n",
       "      <td>3.769429</td>\n",
       "      <td>2.577506</td>\n",
       "      <td>4.082119</td>\n",
       "      <td>5.226695</td>\n",
       "      <td>3.534248</td>\n",
       "      <td>3.028002</td>\n",
       "      <td>2.915743</td>\n",
       "    </tr>\n",
       "    <tr>\n",
       "      <th>2</th>\n",
       "      <td>-162</td>\n",
       "      <td>MIR-744/3P</td>\n",
       "      <td>miRNA</td>\n",
       "      <td>3.675192</td>\n",
       "      <td>3.033211</td>\n",
       "      <td>1.678295</td>\n",
       "      <td>3.576166</td>\n",
       "      <td>3.332498</td>\n",
       "      <td>5.097113</td>\n",
       "      <td>2.995839</td>\n",
       "      <td>...</td>\n",
       "      <td>4.297283</td>\n",
       "      <td>1.834118</td>\n",
       "      <td>3.788151</td>\n",
       "      <td>3.769429</td>\n",
       "      <td>2.577506</td>\n",
       "      <td>4.082119</td>\n",
       "      <td>5.226695</td>\n",
       "      <td>3.534248</td>\n",
       "      <td>3.028002</td>\n",
       "      <td>2.915743</td>\n",
       "    </tr>\n",
       "  </tbody>\n",
       "</table>\n",
       "<p>3 rows × 275 columns</p>\n",
       "</div>"
      ],
      "text/plain": [
       "   entrezGeneId hugoGeneSymbol   type  TCGA-A1-A0SE-01  TCGA-A1-A0SH-01  \\\n",
       "0          -164   MIR-744/744*  miRNA         3.675192         3.033211   \n",
       "1          -163    MIR-744/744  miRNA         3.675192         3.033211   \n",
       "2          -162     MIR-744/3P  miRNA         3.675192         3.033211   \n",
       "\n",
       "   TCGA-A1-A0SJ-01  TCGA-A1-A0SK-01  TCGA-A1-A0SM-01  TCGA-A1-A0SO-01  \\\n",
       "0         1.678295         3.576166         3.332498         5.097113   \n",
       "1         1.678295         3.576166         3.332498         5.097113   \n",
       "2         1.678295         3.576166         3.332498         5.097113   \n",
       "\n",
       "   TCGA-A2-A04P-01  ...  TCGA-BH-A0HO-01  TCGA-BH-A0HP-01  TCGA-BH-A0HU-01  \\\n",
       "0         2.995839  ...         4.297283         1.834118         3.788151   \n",
       "1         2.995839  ...         4.297283         1.834118         3.788151   \n",
       "2         2.995839  ...         4.297283         1.834118         3.788151   \n",
       "\n",
       "   TCGA-BH-A0HW-01  TCGA-BH-A0HX-01  TCGA-BH-A0RX-01  TCGA-BH-A0W3-01  \\\n",
       "0         3.769429         2.577506         4.082119         5.226695   \n",
       "1         3.769429         2.577506         4.082119         5.226695   \n",
       "2         3.769429         2.577506         4.082119         5.226695   \n",
       "\n",
       "   TCGA-BH-A0W4-01  TCGA-BH-A0W5-01  TCGA-BH-A0WA-01  \n",
       "0         3.534248         3.028002         2.915743  \n",
       "1         3.534248         3.028002         2.915743  \n",
       "2         3.534248         3.028002         2.915743  \n",
       "\n",
       "[3 rows x 275 columns]"
      ]
     },
     "execution_count": 13,
     "metadata": {},
     "output_type": "execute_result"
    }
   ],
   "source": [
    "data_miRNA = pd.read_csv('C:\\\\Users\\\\USER~\\\\OneDrive - FCT NOVA\\\\PBCM\\\\Data_TGCA\\\\BRCA_microRNA_expression.txt', sep = '\\t')\n",
    "#data_miRNA = pd.read_csv('C:\\\\Users\\\\arati\\\\OneDrive - FCT NOVA\\\\PBCM\\\\Data_TGCA\\\\BRCA_microRNA_expression.txt', sep = '\\t')\n",
    "data_miRNA.head(3)"
   ]
  },
  {
   "cell_type": "code",
   "execution_count": 14,
   "metadata": {},
   "outputs": [
    {
     "data": {
      "text/html": [
       "<div>\n",
       "<style scoped>\n",
       "    .dataframe tbody tr th:only-of-type {\n",
       "        vertical-align: middle;\n",
       "    }\n",
       "\n",
       "    .dataframe tbody tr th {\n",
       "        vertical-align: top;\n",
       "    }\n",
       "\n",
       "    .dataframe thead th {\n",
       "        text-align: right;\n",
       "    }\n",
       "</style>\n",
       "<table border=\"1\" class=\"dataframe\">\n",
       "  <thead>\n",
       "    <tr style=\"text-align: right;\">\n",
       "      <th>hugoGeneSymbol</th>\n",
       "      <th>MIR-744/744*</th>\n",
       "      <th>MIR-744/744</th>\n",
       "      <th>MIR-744/3P</th>\n",
       "      <th>MIR-744/5P</th>\n",
       "      <th>MIR-758/758</th>\n",
       "      <th>MIR-758/3P</th>\n",
       "      <th>MIR-758/5P</th>\n",
       "      <th>MIR-766/766</th>\n",
       "      <th>MIR-766/3P</th>\n",
       "      <th>MIR-766/5P</th>\n",
       "      <th>...</th>\n",
       "      <th>MIR-1-1/1</th>\n",
       "      <th>MIR-1-2/1</th>\n",
       "      <th>MIR-100/100*</th>\n",
       "      <th>MIR-100/100</th>\n",
       "      <th>MIR-100/3P</th>\n",
       "      <th>MIR-100/5P</th>\n",
       "      <th>MIR-100-11/100</th>\n",
       "      <th>MIR-101/101</th>\n",
       "      <th>MIR-101/3P</th>\n",
       "      <th>MIR-101/5P</th>\n",
       "    </tr>\n",
       "  </thead>\n",
       "  <tbody>\n",
       "    <tr>\n",
       "      <th>TCGA-A1-A0SE-01</th>\n",
       "      <td>3.675192</td>\n",
       "      <td>3.675192</td>\n",
       "      <td>3.675192</td>\n",
       "      <td>3.675192</td>\n",
       "      <td>2.090229</td>\n",
       "      <td>2.090229</td>\n",
       "      <td>2.090229</td>\n",
       "      <td>1.711718</td>\n",
       "      <td>1.711718</td>\n",
       "      <td>1.711718</td>\n",
       "      <td>...</td>\n",
       "      <td>2.913351</td>\n",
       "      <td>2.913351</td>\n",
       "      <td>11.658770</td>\n",
       "      <td>11.658770</td>\n",
       "      <td>11.658770</td>\n",
       "      <td>11.658770</td>\n",
       "      <td>11.658770</td>\n",
       "      <td>13.506458</td>\n",
       "      <td>13.506458</td>\n",
       "      <td>13.506458</td>\n",
       "    </tr>\n",
       "    <tr>\n",
       "      <th>TCGA-A1-A0SH-01</th>\n",
       "      <td>3.033211</td>\n",
       "      <td>3.033211</td>\n",
       "      <td>3.033211</td>\n",
       "      <td>3.033211</td>\n",
       "      <td>3.420234</td>\n",
       "      <td>3.420234</td>\n",
       "      <td>3.420234</td>\n",
       "      <td>2.332771</td>\n",
       "      <td>2.332771</td>\n",
       "      <td>2.332771</td>\n",
       "      <td>...</td>\n",
       "      <td>2.502696</td>\n",
       "      <td>2.502696</td>\n",
       "      <td>12.044008</td>\n",
       "      <td>12.044008</td>\n",
       "      <td>12.044008</td>\n",
       "      <td>12.044008</td>\n",
       "      <td>12.044008</td>\n",
       "      <td>11.241914</td>\n",
       "      <td>11.241914</td>\n",
       "      <td>11.241914</td>\n",
       "    </tr>\n",
       "    <tr>\n",
       "      <th>TCGA-A1-A0SJ-01</th>\n",
       "      <td>1.678295</td>\n",
       "      <td>1.678295</td>\n",
       "      <td>1.678295</td>\n",
       "      <td>1.678295</td>\n",
       "      <td>1.815799</td>\n",
       "      <td>1.815799</td>\n",
       "      <td>1.815799</td>\n",
       "      <td>1.678295</td>\n",
       "      <td>1.678295</td>\n",
       "      <td>1.678295</td>\n",
       "      <td>...</td>\n",
       "      <td>4.864162</td>\n",
       "      <td>4.864162</td>\n",
       "      <td>11.193798</td>\n",
       "      <td>11.193798</td>\n",
       "      <td>11.193798</td>\n",
       "      <td>11.193798</td>\n",
       "      <td>11.193798</td>\n",
       "      <td>12.224708</td>\n",
       "      <td>12.224708</td>\n",
       "      <td>12.224708</td>\n",
       "    </tr>\n",
       "  </tbody>\n",
       "</table>\n",
       "<p>3 rows × 888 columns</p>\n",
       "</div>"
      ],
      "text/plain": [
       "hugoGeneSymbol   MIR-744/744*  MIR-744/744  MIR-744/3P  MIR-744/5P  \\\n",
       "TCGA-A1-A0SE-01      3.675192     3.675192    3.675192    3.675192   \n",
       "TCGA-A1-A0SH-01      3.033211     3.033211    3.033211    3.033211   \n",
       "TCGA-A1-A0SJ-01      1.678295     1.678295    1.678295    1.678295   \n",
       "\n",
       "hugoGeneSymbol   MIR-758/758  MIR-758/3P  MIR-758/5P  MIR-766/766  MIR-766/3P  \\\n",
       "TCGA-A1-A0SE-01     2.090229    2.090229    2.090229     1.711718    1.711718   \n",
       "TCGA-A1-A0SH-01     3.420234    3.420234    3.420234     2.332771    2.332771   \n",
       "TCGA-A1-A0SJ-01     1.815799    1.815799    1.815799     1.678295    1.678295   \n",
       "\n",
       "hugoGeneSymbol   MIR-766/5P  ...  MIR-1-1/1  MIR-1-2/1  MIR-100/100*  \\\n",
       "TCGA-A1-A0SE-01    1.711718  ...   2.913351   2.913351     11.658770   \n",
       "TCGA-A1-A0SH-01    2.332771  ...   2.502696   2.502696     12.044008   \n",
       "TCGA-A1-A0SJ-01    1.678295  ...   4.864162   4.864162     11.193798   \n",
       "\n",
       "hugoGeneSymbol   MIR-100/100  MIR-100/3P  MIR-100/5P  MIR-100-11/100  \\\n",
       "TCGA-A1-A0SE-01    11.658770   11.658770   11.658770       11.658770   \n",
       "TCGA-A1-A0SH-01    12.044008   12.044008   12.044008       12.044008   \n",
       "TCGA-A1-A0SJ-01    11.193798   11.193798   11.193798       11.193798   \n",
       "\n",
       "hugoGeneSymbol   MIR-101/101  MIR-101/3P  MIR-101/5P  \n",
       "TCGA-A1-A0SE-01    13.506458   13.506458   13.506458  \n",
       "TCGA-A1-A0SH-01    11.241914   11.241914   11.241914  \n",
       "TCGA-A1-A0SJ-01    12.224708   12.224708   12.224708  \n",
       "\n",
       "[3 rows x 888 columns]"
      ]
     },
     "execution_count": 14,
     "metadata": {},
     "output_type": "execute_result"
    }
   ],
   "source": [
    "data_miRNA = data_miRNA.set_index(data_miRNA['hugoGeneSymbol'])\n",
    "data_miRNA = data_miRNA.drop(columns = ['entrezGeneId', 'type','hugoGeneSymbol'],)\n",
    "data_miRNA = data_miRNA.transpose()\n",
    "data_miRNA.head(3)"
   ]
  },
  {
   "cell_type": "code",
   "execution_count": 15,
   "metadata": {},
   "outputs": [
    {
     "data": {
      "text/plain": [
       "(272, 888)"
      ]
     },
     "execution_count": 15,
     "metadata": {},
     "output_type": "execute_result"
    }
   ],
   "source": [
    "data_miRNA.shape"
   ]
  },
  {
   "cell_type": "code",
   "execution_count": 16,
   "metadata": {},
   "outputs": [
    {
     "data": {
      "text/plain": [
       "(267, 888)"
      ]
     },
     "execution_count": 16,
     "metadata": {},
     "output_type": "execute_result"
    }
   ],
   "source": [
    "data_miRNA= data_miRNA[data_miRNA.index.isin(samples)]\n",
    "data_miRNA.shape"
   ]
  },
  {
   "cell_type": "markdown",
   "metadata": {},
   "source": [
    "#### mRNA Dataset"
   ]
  },
  {
   "cell_type": "code",
   "execution_count": 17,
   "metadata": {},
   "outputs": [
    {
     "data": {
      "text/html": [
       "<div>\n",
       "<style scoped>\n",
       "    .dataframe tbody tr th:only-of-type {\n",
       "        vertical-align: middle;\n",
       "    }\n",
       "\n",
       "    .dataframe tbody tr th {\n",
       "        vertical-align: top;\n",
       "    }\n",
       "\n",
       "    .dataframe thead th {\n",
       "        text-align: right;\n",
       "    }\n",
       "</style>\n",
       "<table border=\"1\" class=\"dataframe\">\n",
       "  <thead>\n",
       "    <tr style=\"text-align: right;\">\n",
       "      <th></th>\n",
       "      <th>entrezGeneId</th>\n",
       "      <th>hugoGeneSymbol</th>\n",
       "      <th>type</th>\n",
       "      <th>TCGA-A1-A0SD-01</th>\n",
       "      <th>TCGA-A1-A0SE-01</th>\n",
       "      <th>TCGA-A1-A0SH-01</th>\n",
       "      <th>TCGA-A1-A0SJ-01</th>\n",
       "      <th>TCGA-A1-A0SK-01</th>\n",
       "      <th>TCGA-A1-A0SM-01</th>\n",
       "      <th>TCGA-A1-A0SO-01</th>\n",
       "      <th>...</th>\n",
       "      <th>TCGA-E2-A15O-01</th>\n",
       "      <th>TCGA-E2-A15P-01</th>\n",
       "      <th>TCGA-E2-A15R-01</th>\n",
       "      <th>TCGA-E2-A1B0-01</th>\n",
       "      <th>TCGA-E2-A1B1-01</th>\n",
       "      <th>TCGA-E2-A1B4-01</th>\n",
       "      <th>TCGA-E2-A1B5-01</th>\n",
       "      <th>TCGA-E2-A1B6-01</th>\n",
       "      <th>TCGA-E2-A1BC-01</th>\n",
       "      <th>TCGA-E2-A1BD-01</th>\n",
       "    </tr>\n",
       "  </thead>\n",
       "  <tbody>\n",
       "    <tr>\n",
       "      <th>0</th>\n",
       "      <td>-2948</td>\n",
       "      <td>MIR-16/3P</td>\n",
       "      <td>miRNA</td>\n",
       "      <td>0.4535</td>\n",
       "      <td>1.06175</td>\n",
       "      <td>0.373875</td>\n",
       "      <td>0.51575</td>\n",
       "      <td>-0.177375</td>\n",
       "      <td>0.671875</td>\n",
       "      <td>0.777875</td>\n",
       "      <td>...</td>\n",
       "      <td>1.402125</td>\n",
       "      <td>0.61125</td>\n",
       "      <td>0.839625</td>\n",
       "      <td>0.4855</td>\n",
       "      <td>0.406125</td>\n",
       "      <td>0.686375</td>\n",
       "      <td>-0.019875</td>\n",
       "      <td>0.640375</td>\n",
       "      <td>1.06225</td>\n",
       "      <td>1.180875</td>\n",
       "    </tr>\n",
       "    <tr>\n",
       "      <th>1</th>\n",
       "      <td>-2946</td>\n",
       "      <td>MIR-16/16</td>\n",
       "      <td>miRNA</td>\n",
       "      <td>0.4535</td>\n",
       "      <td>1.06175</td>\n",
       "      <td>0.373875</td>\n",
       "      <td>0.51575</td>\n",
       "      <td>-0.177375</td>\n",
       "      <td>0.671875</td>\n",
       "      <td>0.777875</td>\n",
       "      <td>...</td>\n",
       "      <td>1.402125</td>\n",
       "      <td>0.61125</td>\n",
       "      <td>0.839625</td>\n",
       "      <td>0.4855</td>\n",
       "      <td>0.406125</td>\n",
       "      <td>0.686375</td>\n",
       "      <td>-0.019875</td>\n",
       "      <td>0.640375</td>\n",
       "      <td>1.06225</td>\n",
       "      <td>1.180875</td>\n",
       "    </tr>\n",
       "    <tr>\n",
       "      <th>2</th>\n",
       "      <td>-2945</td>\n",
       "      <td>MIR-16/5P</td>\n",
       "      <td>miRNA</td>\n",
       "      <td>0.4535</td>\n",
       "      <td>1.06175</td>\n",
       "      <td>0.373875</td>\n",
       "      <td>0.51575</td>\n",
       "      <td>-0.177375</td>\n",
       "      <td>0.671875</td>\n",
       "      <td>0.777875</td>\n",
       "      <td>...</td>\n",
       "      <td>1.402125</td>\n",
       "      <td>0.61125</td>\n",
       "      <td>0.839625</td>\n",
       "      <td>0.4855</td>\n",
       "      <td>0.406125</td>\n",
       "      <td>0.686375</td>\n",
       "      <td>-0.019875</td>\n",
       "      <td>0.640375</td>\n",
       "      <td>1.06225</td>\n",
       "      <td>1.180875</td>\n",
       "    </tr>\n",
       "  </tbody>\n",
       "</table>\n",
       "<p>3 rows × 463 columns</p>\n",
       "</div>"
      ],
      "text/plain": [
       "   entrezGeneId hugoGeneSymbol   type  TCGA-A1-A0SD-01  TCGA-A1-A0SE-01  \\\n",
       "0         -2948      MIR-16/3P  miRNA           0.4535          1.06175   \n",
       "1         -2946      MIR-16/16  miRNA           0.4535          1.06175   \n",
       "2         -2945      MIR-16/5P  miRNA           0.4535          1.06175   \n",
       "\n",
       "   TCGA-A1-A0SH-01  TCGA-A1-A0SJ-01  TCGA-A1-A0SK-01  TCGA-A1-A0SM-01  \\\n",
       "0         0.373875          0.51575        -0.177375         0.671875   \n",
       "1         0.373875          0.51575        -0.177375         0.671875   \n",
       "2         0.373875          0.51575        -0.177375         0.671875   \n",
       "\n",
       "   TCGA-A1-A0SO-01  ...  TCGA-E2-A15O-01  TCGA-E2-A15P-01  TCGA-E2-A15R-01  \\\n",
       "0         0.777875  ...         1.402125          0.61125         0.839625   \n",
       "1         0.777875  ...         1.402125          0.61125         0.839625   \n",
       "2         0.777875  ...         1.402125          0.61125         0.839625   \n",
       "\n",
       "   TCGA-E2-A1B0-01  TCGA-E2-A1B1-01  TCGA-E2-A1B4-01  TCGA-E2-A1B5-01  \\\n",
       "0           0.4855         0.406125         0.686375        -0.019875   \n",
       "1           0.4855         0.406125         0.686375        -0.019875   \n",
       "2           0.4855         0.406125         0.686375        -0.019875   \n",
       "\n",
       "   TCGA-E2-A1B6-01  TCGA-E2-A1BC-01  TCGA-E2-A1BD-01  \n",
       "0         0.640375          1.06225         1.180875  \n",
       "1         0.640375          1.06225         1.180875  \n",
       "2         0.640375          1.06225         1.180875  \n",
       "\n",
       "[3 rows x 463 columns]"
      ]
     },
     "execution_count": 17,
     "metadata": {},
     "output_type": "execute_result"
    }
   ],
   "source": [
    "data_mRNA = pd.read_csv('C:\\\\Users\\\\USER~\\\\OneDrive - FCT NOVA\\\\PBCM\\\\Data_TGCA\\\\BRCA_mRNAs_expression.txt', sep = '\\t')\n",
    "#data_mRNA = pd.read_csv('C:\\\\Users\\\\arati\\\\OneDrive - FCT NOVA\\\\PBCM\\\\Data_TGCA\\\\BRCA_mRNAs_expression.txt', sep = '\\t')\n",
    "data_mRNA.head(3)"
   ]
  },
  {
   "cell_type": "code",
   "execution_count": 18,
   "metadata": {},
   "outputs": [
    {
     "data": {
      "text/html": [
       "<div>\n",
       "<style scoped>\n",
       "    .dataframe tbody tr th:only-of-type {\n",
       "        vertical-align: middle;\n",
       "    }\n",
       "\n",
       "    .dataframe tbody tr th {\n",
       "        vertical-align: top;\n",
       "    }\n",
       "\n",
       "    .dataframe thead th {\n",
       "        text-align: right;\n",
       "    }\n",
       "</style>\n",
       "<table border=\"1\" class=\"dataframe\">\n",
       "  <thead>\n",
       "    <tr style=\"text-align: right;\">\n",
       "      <th>hugoGeneSymbol</th>\n",
       "      <th>MIR-16/3P</th>\n",
       "      <th>MIR-16/16</th>\n",
       "      <th>MIR-16/5P</th>\n",
       "      <th>MIR-16-1/16</th>\n",
       "      <th>MIR-16-13/16</th>\n",
       "      <th>MIR-16-2/16</th>\n",
       "      <th>GAS8-AS1</th>\n",
       "      <th>SLC22A18AS</th>\n",
       "      <th>PWAR5</th>\n",
       "      <th>INE1</th>\n",
       "      <th>...</th>\n",
       "      <th>C8ORF44</th>\n",
       "      <th>C3ORF36</th>\n",
       "      <th>TUBA3FP</th>\n",
       "      <th>C11ORF40</th>\n",
       "      <th>C15ORF32</th>\n",
       "      <th>C9ORF163</th>\n",
       "      <th>VN1R3</th>\n",
       "      <th>MSLNL</th>\n",
       "      <th>DNAJB3</th>\n",
       "      <th>C8ORF17</th>\n",
       "    </tr>\n",
       "  </thead>\n",
       "  <tbody>\n",
       "    <tr>\n",
       "      <th>TCGA-A1-A0SD-01</th>\n",
       "      <td>0.453500</td>\n",
       "      <td>0.453500</td>\n",
       "      <td>0.453500</td>\n",
       "      <td>0.453500</td>\n",
       "      <td>0.453500</td>\n",
       "      <td>0.453500</td>\n",
       "      <td>0.275667</td>\n",
       "      <td>0.153833</td>\n",
       "      <td>-0.309</td>\n",
       "      <td>-1.249833</td>\n",
       "      <td>...</td>\n",
       "      <td>-0.34825</td>\n",
       "      <td>0.79350</td>\n",
       "      <td>-1.682167</td>\n",
       "      <td>0.494</td>\n",
       "      <td>0.5395</td>\n",
       "      <td>-0.308</td>\n",
       "      <td>-0.265667</td>\n",
       "      <td>0.34475</td>\n",
       "      <td>0.097750</td>\n",
       "      <td>-0.279250</td>\n",
       "    </tr>\n",
       "    <tr>\n",
       "      <th>TCGA-A1-A0SE-01</th>\n",
       "      <td>1.061750</td>\n",
       "      <td>1.061750</td>\n",
       "      <td>1.061750</td>\n",
       "      <td>1.061750</td>\n",
       "      <td>1.061750</td>\n",
       "      <td>1.061750</td>\n",
       "      <td>0.419833</td>\n",
       "      <td>-0.768833</td>\n",
       "      <td>-0.068</td>\n",
       "      <td>-1.311333</td>\n",
       "      <td>...</td>\n",
       "      <td>-0.40725</td>\n",
       "      <td>0.55775</td>\n",
       "      <td>-1.280500</td>\n",
       "      <td>-0.038</td>\n",
       "      <td>-0.0610</td>\n",
       "      <td>-0.416</td>\n",
       "      <td>0.014667</td>\n",
       "      <td>0.39225</td>\n",
       "      <td>0.159000</td>\n",
       "      <td>-0.108667</td>\n",
       "    </tr>\n",
       "    <tr>\n",
       "      <th>TCGA-A1-A0SH-01</th>\n",
       "      <td>0.373875</td>\n",
       "      <td>0.373875</td>\n",
       "      <td>0.373875</td>\n",
       "      <td>0.373875</td>\n",
       "      <td>0.373875</td>\n",
       "      <td>0.373875</td>\n",
       "      <td>0.430833</td>\n",
       "      <td>-0.585333</td>\n",
       "      <td>-0.398</td>\n",
       "      <td>-1.619667</td>\n",
       "      <td>...</td>\n",
       "      <td>-0.75175</td>\n",
       "      <td>0.58575</td>\n",
       "      <td>-0.895167</td>\n",
       "      <td>0.182</td>\n",
       "      <td>0.8815</td>\n",
       "      <td>-0.695</td>\n",
       "      <td>0.066333</td>\n",
       "      <td>0.46350</td>\n",
       "      <td>0.441625</td>\n",
       "      <td>0.082750</td>\n",
       "    </tr>\n",
       "  </tbody>\n",
       "</table>\n",
       "<p>3 rows × 17195 columns</p>\n",
       "</div>"
      ],
      "text/plain": [
       "hugoGeneSymbol   MIR-16/3P  MIR-16/16  MIR-16/5P  MIR-16-1/16  MIR-16-13/16  \\\n",
       "TCGA-A1-A0SD-01   0.453500   0.453500   0.453500     0.453500      0.453500   \n",
       "TCGA-A1-A0SE-01   1.061750   1.061750   1.061750     1.061750      1.061750   \n",
       "TCGA-A1-A0SH-01   0.373875   0.373875   0.373875     0.373875      0.373875   \n",
       "\n",
       "hugoGeneSymbol   MIR-16-2/16  GAS8-AS1  SLC22A18AS  PWAR5      INE1  ...  \\\n",
       "TCGA-A1-A0SD-01     0.453500  0.275667    0.153833 -0.309 -1.249833  ...   \n",
       "TCGA-A1-A0SE-01     1.061750  0.419833   -0.768833 -0.068 -1.311333  ...   \n",
       "TCGA-A1-A0SH-01     0.373875  0.430833   -0.585333 -0.398 -1.619667  ...   \n",
       "\n",
       "hugoGeneSymbol   C8ORF44  C3ORF36   TUBA3FP  C11ORF40  C15ORF32  C9ORF163  \\\n",
       "TCGA-A1-A0SD-01 -0.34825  0.79350 -1.682167     0.494    0.5395    -0.308   \n",
       "TCGA-A1-A0SE-01 -0.40725  0.55775 -1.280500    -0.038   -0.0610    -0.416   \n",
       "TCGA-A1-A0SH-01 -0.75175  0.58575 -0.895167     0.182    0.8815    -0.695   \n",
       "\n",
       "hugoGeneSymbol      VN1R3    MSLNL    DNAJB3   C8ORF17  \n",
       "TCGA-A1-A0SD-01 -0.265667  0.34475  0.097750 -0.279250  \n",
       "TCGA-A1-A0SE-01  0.014667  0.39225  0.159000 -0.108667  \n",
       "TCGA-A1-A0SH-01  0.066333  0.46350  0.441625  0.082750  \n",
       "\n",
       "[3 rows x 17195 columns]"
      ]
     },
     "execution_count": 18,
     "metadata": {},
     "output_type": "execute_result"
    }
   ],
   "source": [
    "data_mRNA = data_mRNA.set_index(data_mRNA['hugoGeneSymbol'])\n",
    "data_mRNA = data_mRNA.drop(columns = ['entrezGeneId', 'type','hugoGeneSymbol'],)\n",
    "data_mRNA = data_mRNA.transpose()\n",
    "data_mRNA.head(3)"
   ]
  },
  {
   "cell_type": "code",
   "execution_count": 19,
   "metadata": {},
   "outputs": [
    {
     "data": {
      "text/plain": [
       "(460, 17195)"
      ]
     },
     "execution_count": 19,
     "metadata": {},
     "output_type": "execute_result"
    }
   ],
   "source": [
    "data_mRNA.shape"
   ]
  },
  {
   "cell_type": "code",
   "execution_count": 20,
   "metadata": {},
   "outputs": [
    {
     "data": {
      "text/plain": [
       "(452, 17195)"
      ]
     },
     "execution_count": 20,
     "metadata": {},
     "output_type": "execute_result"
    }
   ],
   "source": [
    "data_mRNA= data_mRNA[data_mRNA.index.isin(samples)]\n",
    "data_mRNA.shape"
   ]
  },
  {
   "cell_type": "code",
   "execution_count": null,
   "metadata": {},
   "outputs": [],
   "source": [
    "# Set a seed\n",
    "set_seed = 2909"
   ]
  },
  {
   "cell_type": "markdown",
   "metadata": {},
   "source": [
    "## Scale the data"
   ]
  },
  {
   "cell_type": "code",
   "execution_count": 22,
   "metadata": {},
   "outputs": [],
   "source": [
    "# Standardize the data\n",
    "scaler = StandardScaler()"
   ]
  },
  {
   "cell_type": "code",
   "execution_count": null,
   "metadata": {},
   "outputs": [],
   "source": [
    "# Drop NA values\n",
    "data_mRNA = data_mRNA.dropna(axis=1)\n",
    "data_miRNA = data_miRNA.dropna(axis=1)"
   ]
  },
  {
   "cell_type": "code",
   "execution_count": 24,
   "metadata": {},
   "outputs": [],
   "source": [
    "data_miRNA_scaled = scaler.fit_transform(data_miRNA)\n",
    "data_mRNA_scaled = scaler.fit_transform(data_mRNA)"
   ]
  },
  {
   "cell_type": "markdown",
   "metadata": {},
   "source": [
    "## PCA with 50 componentss \n",
    "(Acelerate the performance of tSNE)"
   ]
  },
  {
   "cell_type": "code",
   "execution_count": 25,
   "metadata": {},
   "outputs": [],
   "source": [
    "# Do a PCA to pre-reduce the dimensionality of the data\n",
    "pca = PCA(n_components=50)"
   ]
  },
  {
   "cell_type": "markdown",
   "metadata": {},
   "source": [
    "#### miRNA"
   ]
  },
  {
   "cell_type": "code",
   "execution_count": 26,
   "metadata": {},
   "outputs": [
    {
     "data": {
      "text/plain": [
       "(267, 37)"
      ]
     },
     "execution_count": 26,
     "metadata": {},
     "output_type": "execute_result"
    }
   ],
   "source": [
    "miRNA_samples = data_miRNA.index\n",
    "data_clinical_miRNA = data_clinical[data_clinical['sampleId'].isin(miRNA_samples)]\n",
    "data_clinical_miRNA.shape"
   ]
  },
  {
   "cell_type": "code",
   "execution_count": 27,
   "metadata": {},
   "outputs": [],
   "source": [
    "Y_miRNA = data_clinical_miRNA[\"PAM50_SUBTYPE\"]"
   ]
  },
  {
   "cell_type": "code",
   "execution_count": 28,
   "metadata": {},
   "outputs": [],
   "source": [
    "X_pca_miRNA = pca.fit_transform(data_miRNA_scaled)"
   ]
  },
  {
   "cell_type": "markdown",
   "metadata": {},
   "source": [
    "#### mRNA"
   ]
  },
  {
   "cell_type": "code",
   "execution_count": 29,
   "metadata": {},
   "outputs": [
    {
     "data": {
      "text/plain": [
       "(452, 37)"
      ]
     },
     "execution_count": 29,
     "metadata": {},
     "output_type": "execute_result"
    }
   ],
   "source": [
    "mRNA_samples = data_mRNA.index\n",
    "data_clinical_mRNA = data_clinical[data_clinical['sampleId'].isin(mRNA_samples)]\n",
    "data_clinical_mRNA.shape"
   ]
  },
  {
   "cell_type": "code",
   "execution_count": 30,
   "metadata": {},
   "outputs": [],
   "source": [
    "Y_mRNA = data_clinical_mRNA[\"PAM50_SUBTYPE\"]"
   ]
  },
  {
   "cell_type": "code",
   "execution_count": 31,
   "metadata": {},
   "outputs": [],
   "source": [
    "X_pca_mRNA = pca.fit_transform(data_mRNA_scaled)"
   ]
  },
  {
   "cell_type": "markdown",
   "metadata": {},
   "source": [
    "## Hyperparameter perplexity "
   ]
  },
  {
   "cell_type": "code",
   "execution_count": 32,
   "metadata": {},
   "outputs": [
    {
     "data": {
      "application/vnd.plotly.v1+json": {
       "config": {
        "plotlyServerURL": "https://plot.ly"
       },
       "data": [
        {
         "hovertemplate": "x=%{x}<br>y=%{y}<extra></extra>",
         "legendgroup": "",
         "line": {
          "color": "red",
          "dash": "solid",
          "width": 1
         },
         "marker": {
          "symbol": "circle"
         },
         "mode": "lines+markers",
         "name": "",
         "orientation": "v",
         "showlegend": false,
         "type": "scatter",
         "x": [
          5,
          10,
          15,
          20,
          25,
          30,
          35,
          40,
          45,
          50,
          55,
          60,
          65,
          70,
          75,
          80,
          85,
          90,
          95
         ],
         "xaxis": "x",
         "y": [
          0.9929019808769226,
          1.0305027961730957,
          0.958776593208313,
          0.9013701677322388,
          0.8573331832885742,
          0.7930525541305542,
          0.7197086215019226,
          0.7173068523406982,
          0.6722018718719482,
          0.6144671440124512,
          0.5750318765640259,
          0.531201958656311,
          0.4976738691329956,
          0.47774431109428406,
          0.4543052315711975,
          0.44471976161003113,
          0.397003173828125,
          0.3665655255317688,
          0.3514145612716675
         ],
         "yaxis": "y"
        }
       ],
       "layout": {
        "legend": {
         "tracegroupgap": 0
        },
        "margin": {
         "t": 60
        },
        "template": {
         "data": {
          "bar": [
           {
            "error_x": {
             "color": "#2a3f5f"
            },
            "error_y": {
             "color": "#2a3f5f"
            },
            "marker": {
             "line": {
              "color": "#E5ECF6",
              "width": 0.5
             },
             "pattern": {
              "fillmode": "overlay",
              "size": 10,
              "solidity": 0.2
             }
            },
            "type": "bar"
           }
          ],
          "barpolar": [
           {
            "marker": {
             "line": {
              "color": "#E5ECF6",
              "width": 0.5
             },
             "pattern": {
              "fillmode": "overlay",
              "size": 10,
              "solidity": 0.2
             }
            },
            "type": "barpolar"
           }
          ],
          "carpet": [
           {
            "aaxis": {
             "endlinecolor": "#2a3f5f",
             "gridcolor": "white",
             "linecolor": "white",
             "minorgridcolor": "white",
             "startlinecolor": "#2a3f5f"
            },
            "baxis": {
             "endlinecolor": "#2a3f5f",
             "gridcolor": "white",
             "linecolor": "white",
             "minorgridcolor": "white",
             "startlinecolor": "#2a3f5f"
            },
            "type": "carpet"
           }
          ],
          "choropleth": [
           {
            "colorbar": {
             "outlinewidth": 0,
             "ticks": ""
            },
            "type": "choropleth"
           }
          ],
          "contour": [
           {
            "colorbar": {
             "outlinewidth": 0,
             "ticks": ""
            },
            "colorscale": [
             [
              0,
              "#0d0887"
             ],
             [
              0.1111111111111111,
              "#46039f"
             ],
             [
              0.2222222222222222,
              "#7201a8"
             ],
             [
              0.3333333333333333,
              "#9c179e"
             ],
             [
              0.4444444444444444,
              "#bd3786"
             ],
             [
              0.5555555555555556,
              "#d8576b"
             ],
             [
              0.6666666666666666,
              "#ed7953"
             ],
             [
              0.7777777777777778,
              "#fb9f3a"
             ],
             [
              0.8888888888888888,
              "#fdca26"
             ],
             [
              1,
              "#f0f921"
             ]
            ],
            "type": "contour"
           }
          ],
          "contourcarpet": [
           {
            "colorbar": {
             "outlinewidth": 0,
             "ticks": ""
            },
            "type": "contourcarpet"
           }
          ],
          "heatmap": [
           {
            "colorbar": {
             "outlinewidth": 0,
             "ticks": ""
            },
            "colorscale": [
             [
              0,
              "#0d0887"
             ],
             [
              0.1111111111111111,
              "#46039f"
             ],
             [
              0.2222222222222222,
              "#7201a8"
             ],
             [
              0.3333333333333333,
              "#9c179e"
             ],
             [
              0.4444444444444444,
              "#bd3786"
             ],
             [
              0.5555555555555556,
              "#d8576b"
             ],
             [
              0.6666666666666666,
              "#ed7953"
             ],
             [
              0.7777777777777778,
              "#fb9f3a"
             ],
             [
              0.8888888888888888,
              "#fdca26"
             ],
             [
              1,
              "#f0f921"
             ]
            ],
            "type": "heatmap"
           }
          ],
          "heatmapgl": [
           {
            "colorbar": {
             "outlinewidth": 0,
             "ticks": ""
            },
            "colorscale": [
             [
              0,
              "#0d0887"
             ],
             [
              0.1111111111111111,
              "#46039f"
             ],
             [
              0.2222222222222222,
              "#7201a8"
             ],
             [
              0.3333333333333333,
              "#9c179e"
             ],
             [
              0.4444444444444444,
              "#bd3786"
             ],
             [
              0.5555555555555556,
              "#d8576b"
             ],
             [
              0.6666666666666666,
              "#ed7953"
             ],
             [
              0.7777777777777778,
              "#fb9f3a"
             ],
             [
              0.8888888888888888,
              "#fdca26"
             ],
             [
              1,
              "#f0f921"
             ]
            ],
            "type": "heatmapgl"
           }
          ],
          "histogram": [
           {
            "marker": {
             "pattern": {
              "fillmode": "overlay",
              "size": 10,
              "solidity": 0.2
             }
            },
            "type": "histogram"
           }
          ],
          "histogram2d": [
           {
            "colorbar": {
             "outlinewidth": 0,
             "ticks": ""
            },
            "colorscale": [
             [
              0,
              "#0d0887"
             ],
             [
              0.1111111111111111,
              "#46039f"
             ],
             [
              0.2222222222222222,
              "#7201a8"
             ],
             [
              0.3333333333333333,
              "#9c179e"
             ],
             [
              0.4444444444444444,
              "#bd3786"
             ],
             [
              0.5555555555555556,
              "#d8576b"
             ],
             [
              0.6666666666666666,
              "#ed7953"
             ],
             [
              0.7777777777777778,
              "#fb9f3a"
             ],
             [
              0.8888888888888888,
              "#fdca26"
             ],
             [
              1,
              "#f0f921"
             ]
            ],
            "type": "histogram2d"
           }
          ],
          "histogram2dcontour": [
           {
            "colorbar": {
             "outlinewidth": 0,
             "ticks": ""
            },
            "colorscale": [
             [
              0,
              "#0d0887"
             ],
             [
              0.1111111111111111,
              "#46039f"
             ],
             [
              0.2222222222222222,
              "#7201a8"
             ],
             [
              0.3333333333333333,
              "#9c179e"
             ],
             [
              0.4444444444444444,
              "#bd3786"
             ],
             [
              0.5555555555555556,
              "#d8576b"
             ],
             [
              0.6666666666666666,
              "#ed7953"
             ],
             [
              0.7777777777777778,
              "#fb9f3a"
             ],
             [
              0.8888888888888888,
              "#fdca26"
             ],
             [
              1,
              "#f0f921"
             ]
            ],
            "type": "histogram2dcontour"
           }
          ],
          "mesh3d": [
           {
            "colorbar": {
             "outlinewidth": 0,
             "ticks": ""
            },
            "type": "mesh3d"
           }
          ],
          "parcoords": [
           {
            "line": {
             "colorbar": {
              "outlinewidth": 0,
              "ticks": ""
             }
            },
            "type": "parcoords"
           }
          ],
          "pie": [
           {
            "automargin": true,
            "type": "pie"
           }
          ],
          "scatter": [
           {
            "fillpattern": {
             "fillmode": "overlay",
             "size": 10,
             "solidity": 0.2
            },
            "type": "scatter"
           }
          ],
          "scatter3d": [
           {
            "line": {
             "colorbar": {
              "outlinewidth": 0,
              "ticks": ""
             }
            },
            "marker": {
             "colorbar": {
              "outlinewidth": 0,
              "ticks": ""
             }
            },
            "type": "scatter3d"
           }
          ],
          "scattercarpet": [
           {
            "marker": {
             "colorbar": {
              "outlinewidth": 0,
              "ticks": ""
             }
            },
            "type": "scattercarpet"
           }
          ],
          "scattergeo": [
           {
            "marker": {
             "colorbar": {
              "outlinewidth": 0,
              "ticks": ""
             }
            },
            "type": "scattergeo"
           }
          ],
          "scattergl": [
           {
            "marker": {
             "colorbar": {
              "outlinewidth": 0,
              "ticks": ""
             }
            },
            "type": "scattergl"
           }
          ],
          "scattermapbox": [
           {
            "marker": {
             "colorbar": {
              "outlinewidth": 0,
              "ticks": ""
             }
            },
            "type": "scattermapbox"
           }
          ],
          "scatterpolar": [
           {
            "marker": {
             "colorbar": {
              "outlinewidth": 0,
              "ticks": ""
             }
            },
            "type": "scatterpolar"
           }
          ],
          "scatterpolargl": [
           {
            "marker": {
             "colorbar": {
              "outlinewidth": 0,
              "ticks": ""
             }
            },
            "type": "scatterpolargl"
           }
          ],
          "scatterternary": [
           {
            "marker": {
             "colorbar": {
              "outlinewidth": 0,
              "ticks": ""
             }
            },
            "type": "scatterternary"
           }
          ],
          "surface": [
           {
            "colorbar": {
             "outlinewidth": 0,
             "ticks": ""
            },
            "colorscale": [
             [
              0,
              "#0d0887"
             ],
             [
              0.1111111111111111,
              "#46039f"
             ],
             [
              0.2222222222222222,
              "#7201a8"
             ],
             [
              0.3333333333333333,
              "#9c179e"
             ],
             [
              0.4444444444444444,
              "#bd3786"
             ],
             [
              0.5555555555555556,
              "#d8576b"
             ],
             [
              0.6666666666666666,
              "#ed7953"
             ],
             [
              0.7777777777777778,
              "#fb9f3a"
             ],
             [
              0.8888888888888888,
              "#fdca26"
             ],
             [
              1,
              "#f0f921"
             ]
            ],
            "type": "surface"
           }
          ],
          "table": [
           {
            "cells": {
             "fill": {
              "color": "#EBF0F8"
             },
             "line": {
              "color": "white"
             }
            },
            "header": {
             "fill": {
              "color": "#C8D4E3"
             },
             "line": {
              "color": "white"
             }
            },
            "type": "table"
           }
          ]
         },
         "layout": {
          "annotationdefaults": {
           "arrowcolor": "#2a3f5f",
           "arrowhead": 0,
           "arrowwidth": 1
          },
          "autotypenumbers": "strict",
          "coloraxis": {
           "colorbar": {
            "outlinewidth": 0,
            "ticks": ""
           }
          },
          "colorscale": {
           "diverging": [
            [
             0,
             "#8e0152"
            ],
            [
             0.1,
             "#c51b7d"
            ],
            [
             0.2,
             "#de77ae"
            ],
            [
             0.3,
             "#f1b6da"
            ],
            [
             0.4,
             "#fde0ef"
            ],
            [
             0.5,
             "#f7f7f7"
            ],
            [
             0.6,
             "#e6f5d0"
            ],
            [
             0.7,
             "#b8e186"
            ],
            [
             0.8,
             "#7fbc41"
            ],
            [
             0.9,
             "#4d9221"
            ],
            [
             1,
             "#276419"
            ]
           ],
           "sequential": [
            [
             0,
             "#0d0887"
            ],
            [
             0.1111111111111111,
             "#46039f"
            ],
            [
             0.2222222222222222,
             "#7201a8"
            ],
            [
             0.3333333333333333,
             "#9c179e"
            ],
            [
             0.4444444444444444,
             "#bd3786"
            ],
            [
             0.5555555555555556,
             "#d8576b"
            ],
            [
             0.6666666666666666,
             "#ed7953"
            ],
            [
             0.7777777777777778,
             "#fb9f3a"
            ],
            [
             0.8888888888888888,
             "#fdca26"
            ],
            [
             1,
             "#f0f921"
            ]
           ],
           "sequentialminus": [
            [
             0,
             "#0d0887"
            ],
            [
             0.1111111111111111,
             "#46039f"
            ],
            [
             0.2222222222222222,
             "#7201a8"
            ],
            [
             0.3333333333333333,
             "#9c179e"
            ],
            [
             0.4444444444444444,
             "#bd3786"
            ],
            [
             0.5555555555555556,
             "#d8576b"
            ],
            [
             0.6666666666666666,
             "#ed7953"
            ],
            [
             0.7777777777777778,
             "#fb9f3a"
            ],
            [
             0.8888888888888888,
             "#fdca26"
            ],
            [
             1,
             "#f0f921"
            ]
           ]
          },
          "colorway": [
           "#636efa",
           "#EF553B",
           "#00cc96",
           "#ab63fa",
           "#FFA15A",
           "#19d3f3",
           "#FF6692",
           "#B6E880",
           "#FF97FF",
           "#FECB52"
          ],
          "font": {
           "color": "#2a3f5f"
          },
          "geo": {
           "bgcolor": "white",
           "lakecolor": "white",
           "landcolor": "#E5ECF6",
           "showlakes": true,
           "showland": true,
           "subunitcolor": "white"
          },
          "hoverlabel": {
           "align": "left"
          },
          "hovermode": "closest",
          "mapbox": {
           "style": "light"
          },
          "paper_bgcolor": "white",
          "plot_bgcolor": "#E5ECF6",
          "polar": {
           "angularaxis": {
            "gridcolor": "white",
            "linecolor": "white",
            "ticks": ""
           },
           "bgcolor": "#E5ECF6",
           "radialaxis": {
            "gridcolor": "white",
            "linecolor": "white",
            "ticks": ""
           }
          },
          "scene": {
           "xaxis": {
            "backgroundcolor": "#E5ECF6",
            "gridcolor": "white",
            "gridwidth": 2,
            "linecolor": "white",
            "showbackground": true,
            "ticks": "",
            "zerolinecolor": "white"
           },
           "yaxis": {
            "backgroundcolor": "#E5ECF6",
            "gridcolor": "white",
            "gridwidth": 2,
            "linecolor": "white",
            "showbackground": true,
            "ticks": "",
            "zerolinecolor": "white"
           },
           "zaxis": {
            "backgroundcolor": "#E5ECF6",
            "gridcolor": "white",
            "gridwidth": 2,
            "linecolor": "white",
            "showbackground": true,
            "ticks": "",
            "zerolinecolor": "white"
           }
          },
          "shapedefaults": {
           "line": {
            "color": "#2a3f5f"
           }
          },
          "ternary": {
           "aaxis": {
            "gridcolor": "white",
            "linecolor": "white",
            "ticks": ""
           },
           "baxis": {
            "gridcolor": "white",
            "linecolor": "white",
            "ticks": ""
           },
           "bgcolor": "#E5ECF6",
           "caxis": {
            "gridcolor": "white",
            "linecolor": "white",
            "ticks": ""
           }
          },
          "title": {
           "x": 0.05
          },
          "xaxis": {
           "automargin": true,
           "gridcolor": "white",
           "linecolor": "white",
           "ticks": "",
           "title": {
            "standoff": 15
           },
           "zerolinecolor": "white",
           "zerolinewidth": 2
          },
          "yaxis": {
           "automargin": true,
           "gridcolor": "white",
           "linecolor": "white",
           "ticks": "",
           "title": {
            "standoff": 15
           },
           "zerolinecolor": "white",
           "zerolinewidth": 2
          }
         }
        },
        "xaxis": {
         "anchor": "y",
         "domain": [
          0,
          1
         ],
         "title": {
          "text": "Perplexity Values for miRNA dataset"
         }
        },
        "yaxis": {
         "anchor": "x",
         "domain": [
          0,
          1
         ],
         "title": {
          "text": "Divergence"
         }
        }
       }
      }
     },
     "metadata": {},
     "output_type": "display_data"
    }
   ],
   "source": [
    "perplexity = np.arange(5, 100, 5)\n",
    "divergence = []\n",
    "\n",
    "for i in perplexity:\n",
    "    model = TSNE(n_components=2, init=\"pca\", perplexity=i)\n",
    "    reduced = model.fit_transform(X_pca_miRNA)\n",
    "    divergence.append(model.kl_divergence_)\n",
    "fig = px.line(x=perplexity, y=divergence, markers=True)\n",
    "fig.update_layout(xaxis_title=\"Perplexity Values for miRNA dataset\", yaxis_title=\"Divergence\")\n",
    "fig.update_traces(line_color=\"red\", line_width=1)\n",
    "fig.show()"
   ]
  },
  {
   "cell_type": "code",
   "execution_count": 33,
   "metadata": {},
   "outputs": [
    {
     "data": {
      "application/vnd.plotly.v1+json": {
       "config": {
        "plotlyServerURL": "https://plot.ly"
       },
       "data": [
        {
         "hovertemplate": "x=%{x}<br>y=%{y}<extra></extra>",
         "legendgroup": "",
         "line": {
          "color": "red",
          "dash": "solid",
          "width": 1
         },
         "marker": {
          "symbol": "circle"
         },
         "mode": "lines+markers",
         "name": "",
         "orientation": "v",
         "showlegend": false,
         "type": "scatter",
         "x": [
          5,
          10,
          15,
          20,
          25,
          30,
          35,
          40,
          45,
          50,
          55,
          60,
          65,
          70,
          75,
          80,
          85,
          90,
          95
         ],
         "xaxis": "x",
         "y": [
          1.5307323932647705,
          1.4525034427642822,
          1.3873813152313232,
          1.2973462343215942,
          1.2390800714492798,
          1.217413306236267,
          1.1797677278518677,
          1.047762393951416,
          1.0102711915969849,
          0.9893733263015747,
          0.9291070699691772,
          0.8778290748596191,
          0.8768969178199768,
          0.8332453966140747,
          0.772534966468811,
          0.7430379390716553,
          0.7211170196533203,
          0.6789610385894775,
          0.649685263633728
         ],
         "yaxis": "y"
        }
       ],
       "layout": {
        "legend": {
         "tracegroupgap": 0
        },
        "margin": {
         "t": 60
        },
        "template": {
         "data": {
          "bar": [
           {
            "error_x": {
             "color": "#2a3f5f"
            },
            "error_y": {
             "color": "#2a3f5f"
            },
            "marker": {
             "line": {
              "color": "#E5ECF6",
              "width": 0.5
             },
             "pattern": {
              "fillmode": "overlay",
              "size": 10,
              "solidity": 0.2
             }
            },
            "type": "bar"
           }
          ],
          "barpolar": [
           {
            "marker": {
             "line": {
              "color": "#E5ECF6",
              "width": 0.5
             },
             "pattern": {
              "fillmode": "overlay",
              "size": 10,
              "solidity": 0.2
             }
            },
            "type": "barpolar"
           }
          ],
          "carpet": [
           {
            "aaxis": {
             "endlinecolor": "#2a3f5f",
             "gridcolor": "white",
             "linecolor": "white",
             "minorgridcolor": "white",
             "startlinecolor": "#2a3f5f"
            },
            "baxis": {
             "endlinecolor": "#2a3f5f",
             "gridcolor": "white",
             "linecolor": "white",
             "minorgridcolor": "white",
             "startlinecolor": "#2a3f5f"
            },
            "type": "carpet"
           }
          ],
          "choropleth": [
           {
            "colorbar": {
             "outlinewidth": 0,
             "ticks": ""
            },
            "type": "choropleth"
           }
          ],
          "contour": [
           {
            "colorbar": {
             "outlinewidth": 0,
             "ticks": ""
            },
            "colorscale": [
             [
              0,
              "#0d0887"
             ],
             [
              0.1111111111111111,
              "#46039f"
             ],
             [
              0.2222222222222222,
              "#7201a8"
             ],
             [
              0.3333333333333333,
              "#9c179e"
             ],
             [
              0.4444444444444444,
              "#bd3786"
             ],
             [
              0.5555555555555556,
              "#d8576b"
             ],
             [
              0.6666666666666666,
              "#ed7953"
             ],
             [
              0.7777777777777778,
              "#fb9f3a"
             ],
             [
              0.8888888888888888,
              "#fdca26"
             ],
             [
              1,
              "#f0f921"
             ]
            ],
            "type": "contour"
           }
          ],
          "contourcarpet": [
           {
            "colorbar": {
             "outlinewidth": 0,
             "ticks": ""
            },
            "type": "contourcarpet"
           }
          ],
          "heatmap": [
           {
            "colorbar": {
             "outlinewidth": 0,
             "ticks": ""
            },
            "colorscale": [
             [
              0,
              "#0d0887"
             ],
             [
              0.1111111111111111,
              "#46039f"
             ],
             [
              0.2222222222222222,
              "#7201a8"
             ],
             [
              0.3333333333333333,
              "#9c179e"
             ],
             [
              0.4444444444444444,
              "#bd3786"
             ],
             [
              0.5555555555555556,
              "#d8576b"
             ],
             [
              0.6666666666666666,
              "#ed7953"
             ],
             [
              0.7777777777777778,
              "#fb9f3a"
             ],
             [
              0.8888888888888888,
              "#fdca26"
             ],
             [
              1,
              "#f0f921"
             ]
            ],
            "type": "heatmap"
           }
          ],
          "heatmapgl": [
           {
            "colorbar": {
             "outlinewidth": 0,
             "ticks": ""
            },
            "colorscale": [
             [
              0,
              "#0d0887"
             ],
             [
              0.1111111111111111,
              "#46039f"
             ],
             [
              0.2222222222222222,
              "#7201a8"
             ],
             [
              0.3333333333333333,
              "#9c179e"
             ],
             [
              0.4444444444444444,
              "#bd3786"
             ],
             [
              0.5555555555555556,
              "#d8576b"
             ],
             [
              0.6666666666666666,
              "#ed7953"
             ],
             [
              0.7777777777777778,
              "#fb9f3a"
             ],
             [
              0.8888888888888888,
              "#fdca26"
             ],
             [
              1,
              "#f0f921"
             ]
            ],
            "type": "heatmapgl"
           }
          ],
          "histogram": [
           {
            "marker": {
             "pattern": {
              "fillmode": "overlay",
              "size": 10,
              "solidity": 0.2
             }
            },
            "type": "histogram"
           }
          ],
          "histogram2d": [
           {
            "colorbar": {
             "outlinewidth": 0,
             "ticks": ""
            },
            "colorscale": [
             [
              0,
              "#0d0887"
             ],
             [
              0.1111111111111111,
              "#46039f"
             ],
             [
              0.2222222222222222,
              "#7201a8"
             ],
             [
              0.3333333333333333,
              "#9c179e"
             ],
             [
              0.4444444444444444,
              "#bd3786"
             ],
             [
              0.5555555555555556,
              "#d8576b"
             ],
             [
              0.6666666666666666,
              "#ed7953"
             ],
             [
              0.7777777777777778,
              "#fb9f3a"
             ],
             [
              0.8888888888888888,
              "#fdca26"
             ],
             [
              1,
              "#f0f921"
             ]
            ],
            "type": "histogram2d"
           }
          ],
          "histogram2dcontour": [
           {
            "colorbar": {
             "outlinewidth": 0,
             "ticks": ""
            },
            "colorscale": [
             [
              0,
              "#0d0887"
             ],
             [
              0.1111111111111111,
              "#46039f"
             ],
             [
              0.2222222222222222,
              "#7201a8"
             ],
             [
              0.3333333333333333,
              "#9c179e"
             ],
             [
              0.4444444444444444,
              "#bd3786"
             ],
             [
              0.5555555555555556,
              "#d8576b"
             ],
             [
              0.6666666666666666,
              "#ed7953"
             ],
             [
              0.7777777777777778,
              "#fb9f3a"
             ],
             [
              0.8888888888888888,
              "#fdca26"
             ],
             [
              1,
              "#f0f921"
             ]
            ],
            "type": "histogram2dcontour"
           }
          ],
          "mesh3d": [
           {
            "colorbar": {
             "outlinewidth": 0,
             "ticks": ""
            },
            "type": "mesh3d"
           }
          ],
          "parcoords": [
           {
            "line": {
             "colorbar": {
              "outlinewidth": 0,
              "ticks": ""
             }
            },
            "type": "parcoords"
           }
          ],
          "pie": [
           {
            "automargin": true,
            "type": "pie"
           }
          ],
          "scatter": [
           {
            "fillpattern": {
             "fillmode": "overlay",
             "size": 10,
             "solidity": 0.2
            },
            "type": "scatter"
           }
          ],
          "scatter3d": [
           {
            "line": {
             "colorbar": {
              "outlinewidth": 0,
              "ticks": ""
             }
            },
            "marker": {
             "colorbar": {
              "outlinewidth": 0,
              "ticks": ""
             }
            },
            "type": "scatter3d"
           }
          ],
          "scattercarpet": [
           {
            "marker": {
             "colorbar": {
              "outlinewidth": 0,
              "ticks": ""
             }
            },
            "type": "scattercarpet"
           }
          ],
          "scattergeo": [
           {
            "marker": {
             "colorbar": {
              "outlinewidth": 0,
              "ticks": ""
             }
            },
            "type": "scattergeo"
           }
          ],
          "scattergl": [
           {
            "marker": {
             "colorbar": {
              "outlinewidth": 0,
              "ticks": ""
             }
            },
            "type": "scattergl"
           }
          ],
          "scattermapbox": [
           {
            "marker": {
             "colorbar": {
              "outlinewidth": 0,
              "ticks": ""
             }
            },
            "type": "scattermapbox"
           }
          ],
          "scatterpolar": [
           {
            "marker": {
             "colorbar": {
              "outlinewidth": 0,
              "ticks": ""
             }
            },
            "type": "scatterpolar"
           }
          ],
          "scatterpolargl": [
           {
            "marker": {
             "colorbar": {
              "outlinewidth": 0,
              "ticks": ""
             }
            },
            "type": "scatterpolargl"
           }
          ],
          "scatterternary": [
           {
            "marker": {
             "colorbar": {
              "outlinewidth": 0,
              "ticks": ""
             }
            },
            "type": "scatterternary"
           }
          ],
          "surface": [
           {
            "colorbar": {
             "outlinewidth": 0,
             "ticks": ""
            },
            "colorscale": [
             [
              0,
              "#0d0887"
             ],
             [
              0.1111111111111111,
              "#46039f"
             ],
             [
              0.2222222222222222,
              "#7201a8"
             ],
             [
              0.3333333333333333,
              "#9c179e"
             ],
             [
              0.4444444444444444,
              "#bd3786"
             ],
             [
              0.5555555555555556,
              "#d8576b"
             ],
             [
              0.6666666666666666,
              "#ed7953"
             ],
             [
              0.7777777777777778,
              "#fb9f3a"
             ],
             [
              0.8888888888888888,
              "#fdca26"
             ],
             [
              1,
              "#f0f921"
             ]
            ],
            "type": "surface"
           }
          ],
          "table": [
           {
            "cells": {
             "fill": {
              "color": "#EBF0F8"
             },
             "line": {
              "color": "white"
             }
            },
            "header": {
             "fill": {
              "color": "#C8D4E3"
             },
             "line": {
              "color": "white"
             }
            },
            "type": "table"
           }
          ]
         },
         "layout": {
          "annotationdefaults": {
           "arrowcolor": "#2a3f5f",
           "arrowhead": 0,
           "arrowwidth": 1
          },
          "autotypenumbers": "strict",
          "coloraxis": {
           "colorbar": {
            "outlinewidth": 0,
            "ticks": ""
           }
          },
          "colorscale": {
           "diverging": [
            [
             0,
             "#8e0152"
            ],
            [
             0.1,
             "#c51b7d"
            ],
            [
             0.2,
             "#de77ae"
            ],
            [
             0.3,
             "#f1b6da"
            ],
            [
             0.4,
             "#fde0ef"
            ],
            [
             0.5,
             "#f7f7f7"
            ],
            [
             0.6,
             "#e6f5d0"
            ],
            [
             0.7,
             "#b8e186"
            ],
            [
             0.8,
             "#7fbc41"
            ],
            [
             0.9,
             "#4d9221"
            ],
            [
             1,
             "#276419"
            ]
           ],
           "sequential": [
            [
             0,
             "#0d0887"
            ],
            [
             0.1111111111111111,
             "#46039f"
            ],
            [
             0.2222222222222222,
             "#7201a8"
            ],
            [
             0.3333333333333333,
             "#9c179e"
            ],
            [
             0.4444444444444444,
             "#bd3786"
            ],
            [
             0.5555555555555556,
             "#d8576b"
            ],
            [
             0.6666666666666666,
             "#ed7953"
            ],
            [
             0.7777777777777778,
             "#fb9f3a"
            ],
            [
             0.8888888888888888,
             "#fdca26"
            ],
            [
             1,
             "#f0f921"
            ]
           ],
           "sequentialminus": [
            [
             0,
             "#0d0887"
            ],
            [
             0.1111111111111111,
             "#46039f"
            ],
            [
             0.2222222222222222,
             "#7201a8"
            ],
            [
             0.3333333333333333,
             "#9c179e"
            ],
            [
             0.4444444444444444,
             "#bd3786"
            ],
            [
             0.5555555555555556,
             "#d8576b"
            ],
            [
             0.6666666666666666,
             "#ed7953"
            ],
            [
             0.7777777777777778,
             "#fb9f3a"
            ],
            [
             0.8888888888888888,
             "#fdca26"
            ],
            [
             1,
             "#f0f921"
            ]
           ]
          },
          "colorway": [
           "#636efa",
           "#EF553B",
           "#00cc96",
           "#ab63fa",
           "#FFA15A",
           "#19d3f3",
           "#FF6692",
           "#B6E880",
           "#FF97FF",
           "#FECB52"
          ],
          "font": {
           "color": "#2a3f5f"
          },
          "geo": {
           "bgcolor": "white",
           "lakecolor": "white",
           "landcolor": "#E5ECF6",
           "showlakes": true,
           "showland": true,
           "subunitcolor": "white"
          },
          "hoverlabel": {
           "align": "left"
          },
          "hovermode": "closest",
          "mapbox": {
           "style": "light"
          },
          "paper_bgcolor": "white",
          "plot_bgcolor": "#E5ECF6",
          "polar": {
           "angularaxis": {
            "gridcolor": "white",
            "linecolor": "white",
            "ticks": ""
           },
           "bgcolor": "#E5ECF6",
           "radialaxis": {
            "gridcolor": "white",
            "linecolor": "white",
            "ticks": ""
           }
          },
          "scene": {
           "xaxis": {
            "backgroundcolor": "#E5ECF6",
            "gridcolor": "white",
            "gridwidth": 2,
            "linecolor": "white",
            "showbackground": true,
            "ticks": "",
            "zerolinecolor": "white"
           },
           "yaxis": {
            "backgroundcolor": "#E5ECF6",
            "gridcolor": "white",
            "gridwidth": 2,
            "linecolor": "white",
            "showbackground": true,
            "ticks": "",
            "zerolinecolor": "white"
           },
           "zaxis": {
            "backgroundcolor": "#E5ECF6",
            "gridcolor": "white",
            "gridwidth": 2,
            "linecolor": "white",
            "showbackground": true,
            "ticks": "",
            "zerolinecolor": "white"
           }
          },
          "shapedefaults": {
           "line": {
            "color": "#2a3f5f"
           }
          },
          "ternary": {
           "aaxis": {
            "gridcolor": "white",
            "linecolor": "white",
            "ticks": ""
           },
           "baxis": {
            "gridcolor": "white",
            "linecolor": "white",
            "ticks": ""
           },
           "bgcolor": "#E5ECF6",
           "caxis": {
            "gridcolor": "white",
            "linecolor": "white",
            "ticks": ""
           }
          },
          "title": {
           "x": 0.05
          },
          "xaxis": {
           "automargin": true,
           "gridcolor": "white",
           "linecolor": "white",
           "ticks": "",
           "title": {
            "standoff": 15
           },
           "zerolinecolor": "white",
           "zerolinewidth": 2
          },
          "yaxis": {
           "automargin": true,
           "gridcolor": "white",
           "linecolor": "white",
           "ticks": "",
           "title": {
            "standoff": 15
           },
           "zerolinecolor": "white",
           "zerolinewidth": 2
          }
         }
        },
        "xaxis": {
         "anchor": "y",
         "domain": [
          0,
          1
         ],
         "title": {
          "text": "Perplexity Values for mRNA dataset"
         }
        },
        "yaxis": {
         "anchor": "x",
         "domain": [
          0,
          1
         ],
         "title": {
          "text": "Divergence"
         }
        }
       }
      }
     },
     "metadata": {},
     "output_type": "display_data"
    }
   ],
   "source": [
    "perplexity = np.arange(5, 100, 5)\n",
    "divergence = []\n",
    "\n",
    "for i in perplexity:\n",
    "    model = TSNE(n_components=2, init=\"pca\", perplexity=i)\n",
    "    reduced = model.fit_transform(X_pca_mRNA)\n",
    "    divergence.append(model.kl_divergence_)\n",
    "fig = px.line(x=perplexity, y=divergence, markers=True)\n",
    "fig.update_layout(xaxis_title=\"Perplexity Values for mRNA dataset\", yaxis_title=\"Divergence\")\n",
    "fig.update_traces(line_color=\"red\", line_width=1)\n",
    "fig.show()"
   ]
  },
  {
   "cell_type": "markdown",
   "metadata": {},
   "source": [
    "## tSNE\n"
   ]
  },
  {
   "cell_type": "markdown",
   "metadata": {},
   "source": [
    "#### miRNA"
   ]
  },
  {
   "cell_type": "code",
   "execution_count": null,
   "metadata": {},
   "outputs": [
    {
     "data": {
      "text/plain": [
       "0.6782497763633728"
      ]
     },
     "execution_count": 34,
     "metadata": {},
     "output_type": "execute_result"
    }
   ],
   "source": [
    "tsne = TSNE(n_components=2, random_state = 40, perplexity=40, init = 'pca')\n",
    "X_miRNA_tsne = tsne.fit_transform(X_pca_miRNA)\n",
    "tsne.kl_divergence_ "
   ]
  },
  {
   "cell_type": "code",
   "execution_count": 35,
   "metadata": {},
   "outputs": [
    {
     "data": {
      "text/html": [
       "<div>\n",
       "<style scoped>\n",
       "    .dataframe tbody tr th:only-of-type {\n",
       "        vertical-align: middle;\n",
       "    }\n",
       "\n",
       "    .dataframe tbody tr th {\n",
       "        vertical-align: top;\n",
       "    }\n",
       "\n",
       "    .dataframe thead th {\n",
       "        text-align: right;\n",
       "    }\n",
       "</style>\n",
       "<table border=\"1\" class=\"dataframe\">\n",
       "  <thead>\n",
       "    <tr style=\"text-align: right;\">\n",
       "      <th></th>\n",
       "      <th>Dim1</th>\n",
       "      <th>Dim2</th>\n",
       "    </tr>\n",
       "  </thead>\n",
       "  <tbody>\n",
       "    <tr>\n",
       "      <th>TCGA-A1-A0SE-01</th>\n",
       "      <td>-3.190568</td>\n",
       "      <td>5.709601</td>\n",
       "    </tr>\n",
       "    <tr>\n",
       "      <th>TCGA-A1-A0SH-01</th>\n",
       "      <td>-3.643937</td>\n",
       "      <td>7.837124</td>\n",
       "    </tr>\n",
       "    <tr>\n",
       "      <th>TCGA-A1-A0SJ-01</th>\n",
       "      <td>1.378194</td>\n",
       "      <td>1.385609</td>\n",
       "    </tr>\n",
       "    <tr>\n",
       "      <th>TCGA-A1-A0SK-01</th>\n",
       "      <td>9.919408</td>\n",
       "      <td>-7.521049</td>\n",
       "    </tr>\n",
       "    <tr>\n",
       "      <th>TCGA-A1-A0SM-01</th>\n",
       "      <td>0.424209</td>\n",
       "      <td>6.078228</td>\n",
       "    </tr>\n",
       "    <tr>\n",
       "      <th>...</th>\n",
       "      <td>...</td>\n",
       "      <td>...</td>\n",
       "    </tr>\n",
       "    <tr>\n",
       "      <th>TCGA-BH-A0RX-01</th>\n",
       "      <td>6.034419</td>\n",
       "      <td>-4.416231</td>\n",
       "    </tr>\n",
       "    <tr>\n",
       "      <th>TCGA-BH-A0W3-01</th>\n",
       "      <td>-1.805528</td>\n",
       "      <td>-0.797696</td>\n",
       "    </tr>\n",
       "    <tr>\n",
       "      <th>TCGA-BH-A0W4-01</th>\n",
       "      <td>-5.365978</td>\n",
       "      <td>-0.477754</td>\n",
       "    </tr>\n",
       "    <tr>\n",
       "      <th>TCGA-BH-A0W5-01</th>\n",
       "      <td>-4.898571</td>\n",
       "      <td>-1.341638</td>\n",
       "    </tr>\n",
       "    <tr>\n",
       "      <th>TCGA-BH-A0WA-01</th>\n",
       "      <td>6.426214</td>\n",
       "      <td>-7.829046</td>\n",
       "    </tr>\n",
       "  </tbody>\n",
       "</table>\n",
       "<p>267 rows × 2 columns</p>\n",
       "</div>"
      ],
      "text/plain": [
       "                     Dim1      Dim2\n",
       "TCGA-A1-A0SE-01 -3.190568  5.709601\n",
       "TCGA-A1-A0SH-01 -3.643937  7.837124\n",
       "TCGA-A1-A0SJ-01  1.378194  1.385609\n",
       "TCGA-A1-A0SK-01  9.919408 -7.521049\n",
       "TCGA-A1-A0SM-01  0.424209  6.078228\n",
       "...                   ...       ...\n",
       "TCGA-BH-A0RX-01  6.034419 -4.416231\n",
       "TCGA-BH-A0W3-01 -1.805528 -0.797696\n",
       "TCGA-BH-A0W4-01 -5.365978 -0.477754\n",
       "TCGA-BH-A0W5-01 -4.898571 -1.341638\n",
       "TCGA-BH-A0WA-01  6.426214 -7.829046\n",
       "\n",
       "[267 rows x 2 columns]"
      ]
     },
     "execution_count": 35,
     "metadata": {},
     "output_type": "execute_result"
    }
   ],
   "source": [
    "mirna_tsne_df = pd.DataFrame(X_miRNA_tsne, index = data_miRNA.index, columns = ['Dim1', 'Dim2'])\n",
    "mirna_tsne_df "
   ]
  },
  {
   "cell_type": "code",
   "execution_count": null,
   "metadata": {},
   "outputs": [
    {
     "data": {
      "text/html": [
       "<div>\n",
       "<style scoped>\n",
       "    .dataframe tbody tr th:only-of-type {\n",
       "        vertical-align: middle;\n",
       "    }\n",
       "\n",
       "    .dataframe tbody tr th {\n",
       "        vertical-align: top;\n",
       "    }\n",
       "\n",
       "    .dataframe thead th {\n",
       "        text-align: right;\n",
       "    }\n",
       "</style>\n",
       "<table border=\"1\" class=\"dataframe\">\n",
       "  <thead>\n",
       "    <tr style=\"text-align: right;\">\n",
       "      <th></th>\n",
       "      <th>sampleId</th>\n",
       "      <th>Dim1</th>\n",
       "      <th>Dim2</th>\n",
       "      <th>PAM50_SUBTYPE</th>\n",
       "    </tr>\n",
       "  </thead>\n",
       "  <tbody>\n",
       "    <tr>\n",
       "      <th>0</th>\n",
       "      <td>TCGA-A1-A0SE-01</td>\n",
       "      <td>-3.190568</td>\n",
       "      <td>5.709601</td>\n",
       "      <td>Luminal A</td>\n",
       "    </tr>\n",
       "    <tr>\n",
       "      <th>1</th>\n",
       "      <td>TCGA-A1-A0SH-01</td>\n",
       "      <td>-3.643937</td>\n",
       "      <td>7.837124</td>\n",
       "      <td>Luminal A</td>\n",
       "    </tr>\n",
       "    <tr>\n",
       "      <th>2</th>\n",
       "      <td>TCGA-A1-A0SJ-01</td>\n",
       "      <td>1.378194</td>\n",
       "      <td>1.385609</td>\n",
       "      <td>Luminal A</td>\n",
       "    </tr>\n",
       "    <tr>\n",
       "      <th>3</th>\n",
       "      <td>TCGA-A1-A0SK-01</td>\n",
       "      <td>9.919408</td>\n",
       "      <td>-7.521049</td>\n",
       "      <td>Basal-like</td>\n",
       "    </tr>\n",
       "    <tr>\n",
       "      <th>4</th>\n",
       "      <td>TCGA-A1-A0SM-01</td>\n",
       "      <td>0.424209</td>\n",
       "      <td>6.078228</td>\n",
       "      <td>Luminal B</td>\n",
       "    </tr>\n",
       "    <tr>\n",
       "      <th>...</th>\n",
       "      <td>...</td>\n",
       "      <td>...</td>\n",
       "      <td>...</td>\n",
       "      <td>...</td>\n",
       "    </tr>\n",
       "    <tr>\n",
       "      <th>262</th>\n",
       "      <td>TCGA-BH-A0RX-01</td>\n",
       "      <td>6.034419</td>\n",
       "      <td>-4.416231</td>\n",
       "      <td>Basal-like</td>\n",
       "    </tr>\n",
       "    <tr>\n",
       "      <th>263</th>\n",
       "      <td>TCGA-BH-A0W3-01</td>\n",
       "      <td>-1.805528</td>\n",
       "      <td>-0.797696</td>\n",
       "      <td>Luminal B</td>\n",
       "    </tr>\n",
       "    <tr>\n",
       "      <th>264</th>\n",
       "      <td>TCGA-BH-A0W4-01</td>\n",
       "      <td>-5.365978</td>\n",
       "      <td>-0.477754</td>\n",
       "      <td>Luminal A</td>\n",
       "    </tr>\n",
       "    <tr>\n",
       "      <th>265</th>\n",
       "      <td>TCGA-BH-A0W5-01</td>\n",
       "      <td>-4.898571</td>\n",
       "      <td>-1.341638</td>\n",
       "      <td>Luminal A</td>\n",
       "    </tr>\n",
       "    <tr>\n",
       "      <th>266</th>\n",
       "      <td>TCGA-BH-A0WA-01</td>\n",
       "      <td>6.426214</td>\n",
       "      <td>-7.829046</td>\n",
       "      <td>Basal-like</td>\n",
       "    </tr>\n",
       "  </tbody>\n",
       "</table>\n",
       "<p>267 rows × 4 columns</p>\n",
       "</div>"
      ],
      "text/plain": [
       "            sampleId      Dim1      Dim2 PAM50_SUBTYPE\n",
       "0    TCGA-A1-A0SE-01 -3.190568  5.709601     Luminal A\n",
       "1    TCGA-A1-A0SH-01 -3.643937  7.837124     Luminal A\n",
       "2    TCGA-A1-A0SJ-01  1.378194  1.385609     Luminal A\n",
       "3    TCGA-A1-A0SK-01  9.919408 -7.521049    Basal-like\n",
       "4    TCGA-A1-A0SM-01  0.424209  6.078228     Luminal B\n",
       "..               ...       ...       ...           ...\n",
       "262  TCGA-BH-A0RX-01  6.034419 -4.416231    Basal-like\n",
       "263  TCGA-BH-A0W3-01 -1.805528 -0.797696     Luminal B\n",
       "264  TCGA-BH-A0W4-01 -5.365978 -0.477754     Luminal A\n",
       "265  TCGA-BH-A0W5-01 -4.898571 -1.341638     Luminal A\n",
       "266  TCGA-BH-A0WA-01  6.426214 -7.829046    Basal-like\n",
       "\n",
       "[267 rows x 4 columns]"
      ]
     },
     "execution_count": 36,
     "metadata": {},
     "output_type": "execute_result"
    }
   ],
   "source": [
    "# Add the PAM50 subtype of the data\n",
    "mirna_tsne_df.reset_index(names = 'sampleId', inplace = True)\n",
    "mirna_tsne_df = pd.merge(mirna_tsne_df, data_clinical_miRNA[['sampleId', 'PAM50_SUBTYPE']],\n",
    "                        how = 'left', on = 'sampleId')\n",
    "mirna_tsne_df"
   ]
  },
  {
   "cell_type": "markdown",
   "metadata": {},
   "source": [
    "#### mRNA"
   ]
  },
  {
   "cell_type": "code",
   "execution_count": 37,
   "metadata": {},
   "outputs": [
    {
     "data": {
      "text/plain": [
       "1.1785250902175903"
      ]
     },
     "execution_count": 37,
     "metadata": {},
     "output_type": "execute_result"
    }
   ],
   "source": [
    "tsne = TSNE(n_components=2, random_state = 40, perplexity=35, init = 'pca')\n",
    "X_mRNA_tsne = tsne.fit_transform(X_pca_mRNA)\n",
    "tsne.kl_divergence_"
   ]
  },
  {
   "cell_type": "code",
   "execution_count": 38,
   "metadata": {},
   "outputs": [
    {
     "data": {
      "text/html": [
       "<div>\n",
       "<style scoped>\n",
       "    .dataframe tbody tr th:only-of-type {\n",
       "        vertical-align: middle;\n",
       "    }\n",
       "\n",
       "    .dataframe tbody tr th {\n",
       "        vertical-align: top;\n",
       "    }\n",
       "\n",
       "    .dataframe thead th {\n",
       "        text-align: right;\n",
       "    }\n",
       "</style>\n",
       "<table border=\"1\" class=\"dataframe\">\n",
       "  <thead>\n",
       "    <tr style=\"text-align: right;\">\n",
       "      <th></th>\n",
       "      <th>Dim1</th>\n",
       "      <th>Dim2</th>\n",
       "    </tr>\n",
       "  </thead>\n",
       "  <tbody>\n",
       "    <tr>\n",
       "      <th>TCGA-A1-A0SD-01</th>\n",
       "      <td>-7.661946</td>\n",
       "      <td>-12.618414</td>\n",
       "    </tr>\n",
       "    <tr>\n",
       "      <th>TCGA-A1-A0SE-01</th>\n",
       "      <td>-0.097349</td>\n",
       "      <td>-7.721076</td>\n",
       "    </tr>\n",
       "    <tr>\n",
       "      <th>TCGA-A1-A0SH-01</th>\n",
       "      <td>0.545403</td>\n",
       "      <td>-1.451967</td>\n",
       "    </tr>\n",
       "    <tr>\n",
       "      <th>TCGA-A1-A0SJ-01</th>\n",
       "      <td>-6.349015</td>\n",
       "      <td>-0.835349</td>\n",
       "    </tr>\n",
       "    <tr>\n",
       "      <th>TCGA-A1-A0SK-01</th>\n",
       "      <td>12.830268</td>\n",
       "      <td>21.430889</td>\n",
       "    </tr>\n",
       "    <tr>\n",
       "      <th>...</th>\n",
       "      <td>...</td>\n",
       "      <td>...</td>\n",
       "    </tr>\n",
       "    <tr>\n",
       "      <th>TCGA-E2-A1B4-01</th>\n",
       "      <td>4.488083</td>\n",
       "      <td>-10.189421</td>\n",
       "    </tr>\n",
       "    <tr>\n",
       "      <th>TCGA-E2-A1B5-01</th>\n",
       "      <td>5.113874</td>\n",
       "      <td>15.504890</td>\n",
       "    </tr>\n",
       "    <tr>\n",
       "      <th>TCGA-E2-A1B6-01</th>\n",
       "      <td>-6.161445</td>\n",
       "      <td>11.264559</td>\n",
       "    </tr>\n",
       "    <tr>\n",
       "      <th>TCGA-E2-A1BC-01</th>\n",
       "      <td>2.191659</td>\n",
       "      <td>-14.706857</td>\n",
       "    </tr>\n",
       "    <tr>\n",
       "      <th>TCGA-E2-A1BD-01</th>\n",
       "      <td>3.881315</td>\n",
       "      <td>-7.365987</td>\n",
       "    </tr>\n",
       "  </tbody>\n",
       "</table>\n",
       "<p>452 rows × 2 columns</p>\n",
       "</div>"
      ],
      "text/plain": [
       "                      Dim1       Dim2\n",
       "TCGA-A1-A0SD-01  -7.661946 -12.618414\n",
       "TCGA-A1-A0SE-01  -0.097349  -7.721076\n",
       "TCGA-A1-A0SH-01   0.545403  -1.451967\n",
       "TCGA-A1-A0SJ-01  -6.349015  -0.835349\n",
       "TCGA-A1-A0SK-01  12.830268  21.430889\n",
       "...                    ...        ...\n",
       "TCGA-E2-A1B4-01   4.488083 -10.189421\n",
       "TCGA-E2-A1B5-01   5.113874  15.504890\n",
       "TCGA-E2-A1B6-01  -6.161445  11.264559\n",
       "TCGA-E2-A1BC-01   2.191659 -14.706857\n",
       "TCGA-E2-A1BD-01   3.881315  -7.365987\n",
       "\n",
       "[452 rows x 2 columns]"
      ]
     },
     "execution_count": 38,
     "metadata": {},
     "output_type": "execute_result"
    }
   ],
   "source": [
    "mrna_tsne_df = pd.DataFrame(X_mRNA_tsne, index = data_mRNA.index, columns = ['Dim1', 'Dim2'])\n",
    "mrna_tsne_df"
   ]
  },
  {
   "cell_type": "code",
   "execution_count": null,
   "metadata": {},
   "outputs": [
    {
     "data": {
      "text/html": [
       "<div>\n",
       "<style scoped>\n",
       "    .dataframe tbody tr th:only-of-type {\n",
       "        vertical-align: middle;\n",
       "    }\n",
       "\n",
       "    .dataframe tbody tr th {\n",
       "        vertical-align: top;\n",
       "    }\n",
       "\n",
       "    .dataframe thead th {\n",
       "        text-align: right;\n",
       "    }\n",
       "</style>\n",
       "<table border=\"1\" class=\"dataframe\">\n",
       "  <thead>\n",
       "    <tr style=\"text-align: right;\">\n",
       "      <th></th>\n",
       "      <th>sampleId</th>\n",
       "      <th>Dim1</th>\n",
       "      <th>Dim2</th>\n",
       "      <th>PAM50_SUBTYPE</th>\n",
       "    </tr>\n",
       "  </thead>\n",
       "  <tbody>\n",
       "    <tr>\n",
       "      <th>0</th>\n",
       "      <td>TCGA-A1-A0SD-01</td>\n",
       "      <td>-7.661946</td>\n",
       "      <td>-12.618414</td>\n",
       "      <td>Luminal A</td>\n",
       "    </tr>\n",
       "    <tr>\n",
       "      <th>1</th>\n",
       "      <td>TCGA-A1-A0SE-01</td>\n",
       "      <td>-0.097349</td>\n",
       "      <td>-7.721076</td>\n",
       "      <td>Luminal A</td>\n",
       "    </tr>\n",
       "    <tr>\n",
       "      <th>2</th>\n",
       "      <td>TCGA-A1-A0SH-01</td>\n",
       "      <td>0.545403</td>\n",
       "      <td>-1.451967</td>\n",
       "      <td>Luminal A</td>\n",
       "    </tr>\n",
       "    <tr>\n",
       "      <th>3</th>\n",
       "      <td>TCGA-A1-A0SJ-01</td>\n",
       "      <td>-6.349015</td>\n",
       "      <td>-0.835349</td>\n",
       "      <td>Luminal A</td>\n",
       "    </tr>\n",
       "    <tr>\n",
       "      <th>4</th>\n",
       "      <td>TCGA-A1-A0SK-01</td>\n",
       "      <td>12.830268</td>\n",
       "      <td>21.430889</td>\n",
       "      <td>Basal-like</td>\n",
       "    </tr>\n",
       "    <tr>\n",
       "      <th>...</th>\n",
       "      <td>...</td>\n",
       "      <td>...</td>\n",
       "      <td>...</td>\n",
       "      <td>...</td>\n",
       "    </tr>\n",
       "    <tr>\n",
       "      <th>447</th>\n",
       "      <td>TCGA-E2-A1B4-01</td>\n",
       "      <td>4.488083</td>\n",
       "      <td>-10.189421</td>\n",
       "      <td>Luminal A</td>\n",
       "    </tr>\n",
       "    <tr>\n",
       "      <th>448</th>\n",
       "      <td>TCGA-E2-A1B5-01</td>\n",
       "      <td>5.113874</td>\n",
       "      <td>15.504890</td>\n",
       "      <td>Basal-like</td>\n",
       "    </tr>\n",
       "    <tr>\n",
       "      <th>449</th>\n",
       "      <td>TCGA-E2-A1B6-01</td>\n",
       "      <td>-6.161445</td>\n",
       "      <td>11.264559</td>\n",
       "      <td>Luminal A</td>\n",
       "    </tr>\n",
       "    <tr>\n",
       "      <th>450</th>\n",
       "      <td>TCGA-E2-A1BC-01</td>\n",
       "      <td>2.191659</td>\n",
       "      <td>-14.706857</td>\n",
       "      <td>Luminal A</td>\n",
       "    </tr>\n",
       "    <tr>\n",
       "      <th>451</th>\n",
       "      <td>TCGA-E2-A1BD-01</td>\n",
       "      <td>3.881315</td>\n",
       "      <td>-7.365987</td>\n",
       "      <td>Luminal A</td>\n",
       "    </tr>\n",
       "  </tbody>\n",
       "</table>\n",
       "<p>452 rows × 4 columns</p>\n",
       "</div>"
      ],
      "text/plain": [
       "            sampleId       Dim1       Dim2 PAM50_SUBTYPE\n",
       "0    TCGA-A1-A0SD-01  -7.661946 -12.618414     Luminal A\n",
       "1    TCGA-A1-A0SE-01  -0.097349  -7.721076     Luminal A\n",
       "2    TCGA-A1-A0SH-01   0.545403  -1.451967     Luminal A\n",
       "3    TCGA-A1-A0SJ-01  -6.349015  -0.835349     Luminal A\n",
       "4    TCGA-A1-A0SK-01  12.830268  21.430889    Basal-like\n",
       "..               ...        ...        ...           ...\n",
       "447  TCGA-E2-A1B4-01   4.488083 -10.189421     Luminal A\n",
       "448  TCGA-E2-A1B5-01   5.113874  15.504890    Basal-like\n",
       "449  TCGA-E2-A1B6-01  -6.161445  11.264559     Luminal A\n",
       "450  TCGA-E2-A1BC-01   2.191659 -14.706857     Luminal A\n",
       "451  TCGA-E2-A1BD-01   3.881315  -7.365987     Luminal A\n",
       "\n",
       "[452 rows x 4 columns]"
      ]
     },
     "execution_count": 39,
     "metadata": {},
     "output_type": "execute_result"
    }
   ],
   "source": [
    "# Add the PAM50 subtype of the data\n",
    "mrna_tsne_df.reset_index(names = 'sampleId', inplace = True)\n",
    "mrna_tsne_df = pd.merge(mrna_tsne_df, data_clinical_mRNA[['sampleId', 'PAM50_SUBTYPE']],\n",
    "                        how = 'left', on = 'sampleId')\n",
    "mrna_tsne_df"
   ]
  },
  {
   "cell_type": "markdown",
   "metadata": {},
   "source": [
    "### Scatter Plots"
   ]
  },
  {
   "cell_type": "code",
   "execution_count": null,
   "metadata": {},
   "outputs": [
    {
     "data": {
      "image/png": "[encoded data removed]",
      "text/plain": [
       "<Figure size 4800x1500 with 2 Axes>"
      ]
     },
     "metadata": {},
     "output_type": "display_data"
    }
   ],
   "source": [
    "# Plot the tSNE results\n",
    "fig, ax = plt.subplots(nrows = 1, ncols = 2, figsize = (16,5), dpi = 300)\n",
    "plt.style.use(['seaborn-v0_8-white',])\n",
    "\n",
    "sns.scatterplot(data = mirna_tsne_df,\n",
    "                x = 'Dim1', \n",
    "                y = 'Dim2', \n",
    "                hue = 'PAM50_SUBTYPE', ax = ax[0],\n",
    "                palette= {'Basal-like': '#F72585', 'HER2-enriched': '#00008B', 'Luminal A': '#FFC125', 'Luminal B': '#4CC9F0'})\n",
    "\n",
    "\n",
    "ax[0].legend(loc = 'center', bbox_to_anchor = (1, 0.5), fontsize = 6)\n",
    "ax[0].tick_params(axis='both', labelsize = 8)\n",
    "ax[0].set_title('t-SNE visualization of miRNA dataset')\n",
    "\n",
    "sns.scatterplot(data = mrna_tsne_df,\n",
    "                x = 'Dim1', \n",
    "                y = 'Dim2', \n",
    "                hue = 'PAM50_SUBTYPE', ax = ax[1],\n",
    "                palette= {'Basal-like': '#F72585', 'HER2-enriched': '#00008B', 'Luminal A': '#FFC125', 'Luminal B': '#4CC9F0'})\n",
    "\n",
    "ax[1].legend(loc = 'center', bbox_to_anchor = (1, 0.5), fontsize = 6)\n",
    "ax[1].tick_params(axis='both', labelsize = 8)\n",
    "ax[1].set_title('t-SNE visualization of mRNA dataset')\n",
    "\n",
    "sns.despine()\n",
    "\n",
    "plt.show()"
   ]
  }
 ],
 "metadata": {
  "kernelspec": {
   "display_name": "base",
   "language": "python",
   "name": "python3"
  },
  "language_info": {
   "codemirror_mode": {
    "name": "ipython",
    "version": 3
   },
   "file_extension": ".py",
   "mimetype": "text/x-python",
   "name": "python",
   "nbconvert_exporter": "python",
   "pygments_lexer": "ipython3",
   "version": "3.11.4"
  }
 },
 "nbformat": 4,
 "nbformat_minor": 2
}
